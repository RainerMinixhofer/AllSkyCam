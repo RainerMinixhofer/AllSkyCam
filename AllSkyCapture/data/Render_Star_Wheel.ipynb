{
 "cells": [
  {
   "cell_type": "markdown",
   "metadata": {},
   "source": [
    "# Rendering of a Star Wheel"
   ]
  },
  {
   "cell_type": "markdown",
   "metadata": {},
   "source": [
    "Taken from the [great site](https://github.com/dcf21/planisphere) on doing a home made planisphere using Python scripts. We are just using the code snippets [\"bright_stars_process.py\"](https://github.com/dcf21/planisphere/blob/master/bright_stars_process.py) and [\"starwheel.py\"](https://github.com/dcf21/planisphere/blob/master/starwheel.py) for generating the Star Wheel part of the planisphere."
   ]
  },
  {
   "cell_type": "code",
   "execution_count": 51,
   "metadata": {},
   "outputs": [
    {
     "ename": "ModuleNotFoundError",
     "evalue": "No module named 'constants'",
     "output_type": "error",
     "traceback": [
      "\u001b[0;31m---------------------------------------------------------------------------\u001b[0m",
      "\u001b[0;31mModuleNotFoundError\u001b[0m                       Traceback (most recent call last)",
      "\u001b[0;32m<ipython-input-51-90251b0ad93e>\u001b[0m in \u001b[0;36m<module>\u001b[0;34m\u001b[0m\n\u001b[1;32m      5\u001b[0m \u001b[0;32mfrom\u001b[0m \u001b[0mnumpy\u001b[0m \u001b[0;32mimport\u001b[0m \u001b[0marange\u001b[0m\u001b[0;34m\u001b[0m\u001b[0;34m\u001b[0m\u001b[0m\n\u001b[1;32m      6\u001b[0m \u001b[0;32mimport\u001b[0m \u001b[0mcalendar\u001b[0m\u001b[0;34m\u001b[0m\u001b[0;34m\u001b[0m\u001b[0m\n\u001b[0;32m----> 7\u001b[0;31m \u001b[0;32mfrom\u001b[0m \u001b[0mconstants\u001b[0m \u001b[0;32mimport\u001b[0m \u001b[0munit_deg\u001b[0m\u001b[0;34m,\u001b[0m \u001b[0munit_rev\u001b[0m\u001b[0;34m,\u001b[0m \u001b[0munit_mm\u001b[0m\u001b[0;34m,\u001b[0m \u001b[0munit_cm\u001b[0m\u001b[0;34m,\u001b[0m \u001b[0mr_1\u001b[0m\u001b[0;34m,\u001b[0m \u001b[0mr_gap\u001b[0m\u001b[0;34m,\u001b[0m \u001b[0mcentral_hole_size\u001b[0m\u001b[0;34m,\u001b[0m \u001b[0mradius\u001b[0m\u001b[0;34m\u001b[0m\u001b[0;34m\u001b[0m\u001b[0m\n\u001b[0m\u001b[1;32m      8\u001b[0m \u001b[0;32mfrom\u001b[0m \u001b[0mgraphics_context\u001b[0m \u001b[0;32mimport\u001b[0m \u001b[0mBaseComponent\u001b[0m\u001b[0;34m\u001b[0m\u001b[0;34m\u001b[0m\u001b[0m\n\u001b[1;32m      9\u001b[0m \u001b[0;32mfrom\u001b[0m \u001b[0msettings\u001b[0m \u001b[0;32mimport\u001b[0m \u001b[0mfetch_command_line_arguments\u001b[0m\u001b[0;34m\u001b[0m\u001b[0;34m\u001b[0m\u001b[0m\n",
      "\u001b[0;31mModuleNotFoundError\u001b[0m: No module named 'constants'"
     ]
    }
   ],
   "source": [
    "import re\n",
    "import os\n",
    "import sys\n",
    "from math import pi, sin, cos, atan2, hypot\n",
    "from numpy import arange\n",
    "import calendar\n",
    "from constants import unit_deg, unit_rev, unit_mm, unit_cm, r_1, r_gap, central_hole_size, radius\n",
    "from graphics_context import BaseComponent\n",
    "from settings import fetch_command_line_arguments\n",
    "from text import text\n",
    "from themes import themes\n",
    "\n",
    "star_names = []\n",
    "for line in open(\"Yale_Bright_Star_Catalog/notes\", \"rt\"):\n",
    "    if re.match(\"^\\s+\\d+\\s1N\\:\\s+([a-zA-Z\\s\\,\\'\\\"\\(\\)]+(\\;|\\.))+\",line) is not None:\n",
    "        res = re.split(\" 1N:\\s+|; |\\.|,\", line.strip())\n",
    "        star_names.append([int(res[0]),re.sub('Called | in Becvar| in most catalogues|\\\"|Usually called | \\(rarely used\\)','',res[1]).lower().title()])\n",
    "star_names = dict(star_names)\n",
    "non_star_names = [182, 575, 662, 958, 2227, 2462, 2548, 2944, 2954, 2970, 3080, 3084, 3113, 3185, 3447, 3464, 3659, 3669, 3738, 5573, 5764, 6957, 7955, 8066, 8213, 8371, 8406]\n",
    "for k in non_star_names:\n",
    "    star_names.pop(k, None)\n",
    "len(star_names)"
   ]
  },
  {
   "cell_type": "code",
   "execution_count": 50,
   "metadata": {},
   "outputs": [
    {
     "name": "stdout",
     "output_type": "stream",
     "text": [
      "Mirach\n",
      "-\n"
     ]
    }
   ],
   "source": [
    "print(star_names.get(337, \"-\"))\n",
    "print(star_names.get(13, \"-\"))"
   ]
  },
  {
   "cell_type": "code",
   "execution_count": 32,
   "metadata": {},
   "outputs": [],
   "source": [
    "def fetch_yale_bright_star_list(catalog_dir=\"data/Yale_Bright_Star_Catalog\"):\n",
    "    \"\"\"\n",
    "    Read the Yale Bright Star Catalogue from disk, and return it as a list of stars.\n",
    "    Basis of routine was: https://github.com/dcf21/planisphere/blob/master/bright_stars_process.py\n",
    "    :return:\n",
    "        Dictionary\n",
    "    \"\"\"\n",
    "\n",
    "    # Build a dictionary of stars, indexed by HD number\n",
    "    stars = {}\n",
    "\n",
    "    # Convert three-letter abbreviations of Greek letters into UTF-8\n",
    "    greek_alphabet = {'Alp': '\\u03b1', 'Bet': '\\u03b2', 'Gam': '\\u03b3', 'Del': '\\u03b4', 'Eps': '\\u03b5',\n",
    "                      'Zet': '\\u03b6', 'Eta': '\\u03b7', 'The': '\\u03b8', 'Iot': '\\u03b9', 'Kap': '\\u03ba',\n",
    "                      'Lam': '\\u03bb', 'Mu': '\\u03bc', 'Nu': '\\u03bd', 'Xi': '\\u03be', 'Omi': '\\u03bf',\n",
    "                      'Pi': '\\u03c0', 'Rho': '\\u03c1', 'Sig': '\\u03c3', 'Tau': '\\u03c4', 'Ups': '\\u03c5',\n",
    "                      'Phi': '\\u03c6', 'Chi': '\\u03c7', 'Psi': '\\u03c8', 'Ome': '\\u03c9'}\n",
    "\n",
    "    # Superscript numbers which we may place after Greek letters to form the Flamsteed designations of stars\n",
    "    star_suffices = {'1': '\\u00B9', '2': '\\u00B2', '3': '\\u00B3'}\n",
    "\n",
    "    # Look up the common names of bright stars from the notes section of the catalog\n",
    "    star_names = []\n",
    "    notes_file = os.path.join(catalog_dir, \"notes\")\n",
    "    for line in open(notes_file, \"rt\"):\n",
    "        if re.match(\"^\\s+\\d+\\s1N\\:\\s+([a-zA-Z\\s\\,\\'\\\"\\(\\)]+(\\;|\\.))+\", line) is not None:\n",
    "            res = re.split(\" 1N:\\s+|; |\\.|,\", line.strip())\n",
    "            star_names.append([int(res[0]),\n",
    "                               re.sub('Called | in Becvar| in most catalogues|\\\"|Usually called | \\(rarely used\\)',\n",
    "                                      '', res[1]).lower().title()])\n",
    "    star_names = dict(star_names)\n",
    "    non_star_names = [182, 575, 662, 958, 2227, 2462, 2548, 2944, 2954, 2970, 3080, 3084, 3113, 3185, 3447, 3464, 3659, 3669, 3738, 5573, 5764, 6957, 7955, 8066, 8213, 8371, 8406]\n",
    "    for k in non_star_names:\n",
    "        star_names.pop(k, None)\n",
    "\n",
    "    catalog_file = os.path.join(catalog_dir, \"catalog\")\n",
    "\n",
    "    # Loop through the Yale Bright Star Catalog, line by line\n",
    "    bs_num = 0\n",
    "    for line in open(catalog_file, \"rt\"):\n",
    "        # Ignore blank lines and comment lines\n",
    "        if (len(line) < 100) or (line[0] == '#'):\n",
    "            continue\n",
    "\n",
    "        # Counter used too calculated the bright star number -- i.e. the HR number -- of each star\n",
    "        bs_num += 1\n",
    "        try:\n",
    "            # Read the Henry Draper (i.e. HD) number for this star\n",
    "            hd = int(line[25:31])\n",
    "\n",
    "            # Read the right ascension of this star (J2000)\n",
    "            ra_hrs = float(line[75:77])\n",
    "            ra_min = float(line[77:79])\n",
    "            ra_sec = float(line[79:83])\n",
    "\n",
    "            # Read the declination of this star (J2000)\n",
    "            dec_neg = (line[83] == '-')\n",
    "            dec_deg = float(line[84:86])\n",
    "            dec_min = float(line[86:88])\n",
    "            dec_sec = float(line[88:90])\n",
    "\n",
    "            # Read the V magnitude of this star\n",
    "            mag = float(line[102:107])\n",
    "        except ValueError:\n",
    "            continue\n",
    "\n",
    "        # Look up the Bayer number of this star, if one exists\n",
    "        star_num = -1\n",
    "        try:\n",
    "            star_num = int(line[4:7])\n",
    "        except ValueError:\n",
    "            pass\n",
    "\n",
    "        # Render a unicode string containing the name, Flamsteed designation, and Bayer designation for this star\n",
    "        name_bayer = name_bayer_full = name_english = name_flamsteed_full = \"-\"\n",
    "\n",
    "        # Look up the Greek letter (Flamsteed designation) of this star\n",
    "        greek = line[7:10].strip()\n",
    "\n",
    "        # Look up the abbreviation of the constellation this star is in\n",
    "        const = line[11:14].strip()\n",
    "\n",
    "        # Some stars have a suffix after the Flamsteed designation, e.g. alpha-1, alpha-2, etc.\n",
    "        greek_letter_suffix = line[10]\n",
    "        if greek in greek_alphabet:\n",
    "            name_bayer = greek_alphabet[greek]\n",
    "            if greek_letter_suffix in star_suffices:\n",
    "                name_bayer += star_suffices[greek_letter_suffix]\n",
    "            name_bayer_full = '{}-{}'.format(name_bayer, const)\n",
    "        if star_num > 0:\n",
    "            name_flamsteed_full = '{}-{}'.format(star_num, const)\n",
    "\n",
    "        # See if this is a star with a name\n",
    "        if bs_num in star_names:\n",
    "            name_english = star_names.get(bs_num, \"-\")\n",
    "\n",
    "        # Turn RA and Dec from sexagesimal units into decimal\n",
    "        ra = (ra_hrs + ra_min / 60 + ra_sec / 3600) / 24 * 360\n",
    "        dec = (dec_deg + dec_min / 60 + dec_sec / 3600)\n",
    "        if dec_neg:\n",
    "            dec = -dec\n",
    "\n",
    "        # Build a dictionary is stars, indexed by HD number\n",
    "        stars[hd] = [ra, dec, mag, name_bayer, name_bayer_full, name_english, name_flamsteed_full]\n",
    "\n",
    "    hd_numbers = list(stars.keys())\n",
    "    hd_numbers.sort()\n",
    "\n",
    "    return {\n",
    "        'stars': stars,\n",
    "        'hd_numbers': hd_numbers\n",
    "    }"
   ]
  },
  {
   "cell_type": "code",
   "execution_count": 33,
   "metadata": {},
   "outputs": [],
   "source": [
    "catdict = fetch_yale_bright_star_list(catalog_dir=\"/home/rainer/Documents/AllSkyCam/AllSkyCapture/data/Yale_Bright_Star_Catalog\")"
   ]
  },
  {
   "cell_type": "code",
   "execution_count": 47,
   "metadata": {},
   "outputs": [
    {
     "name": "stdout",
     "output_type": "stream",
     "text": [
      "[2.097083333333333, 29.090555555555554, 2.06, 'α', 'α-And', 'Alpheratz', '21-And']\n",
      "[2.2945833333333328, 59.14972222222222, 2.27, 'β', 'β-Cas', 'Caph', '11-Cas']\n",
      "[2.2600000000000002, 18.211944444444445, 5.53, '-', '-', '-', '87-Peg']\n",
      "[2.3375, -27.98777777777778, 5.42, 'κ¹', 'κ¹-Scl', '-', '-']\n",
      "[2.3529166666666668, -45.7475, 3.88, 'ε', 'ε-Phe', '-', '-']\n",
      "[2.509583333333333, 11.145555555555555, 5.51, '-', '-', '-', '34-Psc']\n",
      "[2.580416666666667, 46.07222222222222, 5.03, '-', '-', '-', '22-And']\n",
      "[3.3091666666666666, 15.18361111111111, 2.83, 'γ', 'γ-Peg', 'Algenib', '88-Peg']\n"
     ]
    }
   ],
   "source": [
    "print(catdict[\"stars\"][358])\n",
    "print(catdict[\"stars\"][432])\n",
    "print(catdict[\"stars\"][448])\n",
    "print(catdict[\"stars\"][493])\n",
    "print(catdict[\"stars\"][496])\n",
    "print(catdict[\"stars\"][560])\n",
    "print(catdict[\"stars\"][571])\n",
    "print(catdict[\"stars\"][886])"
   ]
  }
 ],
 "metadata": {
  "kernelspec": {
   "display_name": "Python 3",
   "language": "python",
   "name": "python3"
  },
  "language_info": {
   "codemirror_mode": {
    "name": "ipython",
    "version": 3
   },
   "file_extension": ".py",
   "mimetype": "text/x-python",
   "name": "python",
   "nbconvert_exporter": "python",
   "pygments_lexer": "ipython3",
   "version": "3.6.9"
  }
 },
 "nbformat": 4,
 "nbformat_minor": 2
}
