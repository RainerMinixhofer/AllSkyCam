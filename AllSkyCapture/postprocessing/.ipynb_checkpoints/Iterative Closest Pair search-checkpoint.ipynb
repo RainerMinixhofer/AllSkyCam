{
 "cells": [
  {
   "cell_type": "markdown",
   "metadata": {},
   "source": [
    "From [Stackoverflow](https://stackoverflow.com/questions/20120384/iterative-closest-point-icp-implementation-on-python)"
   ]
  },
  {
   "cell_type": "code",
   "execution_count": 16,
   "metadata": {},
   "outputs": [],
   "source": [
    "import cv2\n",
    "import numpy as np\n",
    "import matplotlib.pyplot as plt\n",
    "from sklearn.neighbors import NearestNeighbors\n",
    "\n",
    "\n",
    "def icp(a, b, init_pose=(0,0,0), no_iterations = 13):\n",
    "    '''\n",
    "    The Iterative Closest Point estimator.\n",
    "    Takes two cloudpoints a[x,y], b[x,y], an initial estimation of\n",
    "    their relative pose and the number of iterations\n",
    "    Returns the affine transform that transforms\n",
    "    the cloudpoint a to the cloudpoint b.\n",
    "    Note:\n",
    "        (1) This method works for cloudpoints with minor\n",
    "        transformations. Thus, the result depents greatly on\n",
    "        the initial pose estimation.\n",
    "        (2) A large number of iterations does not necessarily\n",
    "        ensure convergence. Contrarily, most of the time it\n",
    "        produces worse results.\n",
    "    '''\n",
    "\n",
    "    src = np.array([a.T], copy=True).astype(np.float32)\n",
    "    dst = np.array([b.T], copy=True).astype(np.float32)\n",
    "\n",
    "    #Initialise with the initial pose estimation\n",
    "    Tr = np.array([[np.cos(init_pose[2]),-np.sin(init_pose[2]),init_pose[0]],\n",
    "                   [np.sin(init_pose[2]), np.cos(init_pose[2]),init_pose[1]],\n",
    "                   [0,                    0,                   1          ]])\n",
    "\n",
    "    src = cv2.transform(src, Tr[0:2])\n",
    "\n",
    "    for i in range(no_iterations):\n",
    "        #Find the nearest neighbours between the current source and the\n",
    "        #destination cloudpoint\n",
    "        nbrs = NearestNeighbors(n_neighbors=1, algorithm='auto').fit(dst[0])\n",
    "        distances, indices = nbrs.kneighbors(src[0])\n",
    "\n",
    "        #Compute the transformation between the current source\n",
    "        #and destination cloudpoint\n",
    "        T, _ = cv2.estimateAffine2D(src, dst[0, indices.T], False)\n",
    "        #Transform the previous source and update the\n",
    "        #current source cloudpoint\n",
    "        src = cv2.transform(src, T)\n",
    "        #Save the transformation from the actual source cloudpoint\n",
    "        #to the destination\n",
    "        Tr = np.dot(Tr, np.vstack((T,[0,0,1])))\n",
    "    return Tr[0:2]"
   ]
  },
  {
   "cell_type": "code",
   "execution_count": 17,
   "metadata": {},
   "outputs": [
    {
     "data": {
      "image/png": "[encoded data removed]",
      "text/plain": [
       "<Figure size 432x288 with 1 Axes>"
      ]
     },
     "metadata": {
      "needs_background": "light"
     },
     "output_type": "display_data"
    }
   ],
   "source": [
    "#Create the datasets\n",
    "ang = np.linspace(-np.pi/2, np.pi/2, 320)\n",
    "a = np.array([ang, np.sin(ang)])\n",
    "th = np.pi/2\n",
    "rot = np.array([[np.cos(th), -np.sin(th)],[np.sin(th), np.cos(th)]])\n",
    "b = np.dot(rot, a) + np.array([[0.2], [0.3]])\n",
    "\n",
    "#Run the icp\n",
    "M2 = icp(a, b, [0.1,  0.33, np.pi/2.2], 30)\n",
    "\n",
    "#Plot the result\n",
    "src = np.array([a.T]).astype(np.float32)\n",
    "res = cv2.transform(src, M2)\n",
    "plt.figure()\n",
    "plt.plot(b[0],b[1])\n",
    "plt.plot(res[0].T[0], res[0].T[1], 'r.')\n",
    "plt.plot(a[0], a[1])\n",
    "plt.show()"
   ]
  },
  {
   "cell_type": "code",
   "execution_count": null,
   "metadata": {},
   "outputs": [],
   "source": []
  }
 ],
 "metadata": {
  "kernelspec": {
   "display_name": "Python 3",
   "language": "python",
   "name": "python3"
  },
  "language_info": {
   "codemirror_mode": {
    "name": "ipython",
    "version": 3
   },
   "file_extension": ".py",
   "mimetype": "text/x-python",
   "name": "python",
   "nbconvert_exporter": "python",
   "pygments_lexer": "ipython3",
   "version": "3.6.9"
  }
 },
 "nbformat": 4,
 "nbformat_minor": 2
}
