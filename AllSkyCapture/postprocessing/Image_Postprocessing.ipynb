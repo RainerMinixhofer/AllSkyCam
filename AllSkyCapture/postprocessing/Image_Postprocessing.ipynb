{
 "cells": [
  {
   "cell_type": "markdown",
   "metadata": {},
   "source": [
    "# Example workflow for capturing and then postprocessing images"
   ]
  },
  {
   "cell_type": "markdown",
   "metadata": {},
   "source": [
    "## Import packages"
   ]
  },
  {
   "cell_type": "code",
   "execution_count": 1,
   "metadata": {},
   "outputs": [],
   "source": [
    "import numpy as np\n",
    "from math import log2,ceil\n",
    "import cv2 as cv\n",
    "import zwoasi as asi\n",
    "import datetime\n",
    "import matplotlib.pyplot as plt"
   ]
  },
  {
   "cell_type": "markdown",
   "metadata": {},
   "source": [
    "## Initialize Camera"
   ]
  },
  {
   "cell_type": "markdown",
   "metadata": {},
   "source": [
    "### Camera Constants"
   ]
  },
  {
   "cell_type": "code",
   "execution_count": 2,
   "metadata": {},
   "outputs": [],
   "source": [
    "bayerpatt = ['RGGB', 'BGGR', 'GRBG', 'GBRG'] # Sequence of Bayer pattern in rows then columns\n",
    "imgformat = ['RAW8', 'RGB24', 'RAW16', 'Y8'] # Supported image formats"
   ]
  },
  {
   "cell_type": "code",
   "execution_count": 3,
   "metadata": {},
   "outputs": [],
   "source": [
    "asi.init('/usr/lib/libASICamera2.so')"
   ]
  },
  {
   "cell_type": "code",
   "execution_count": 4,
   "metadata": {},
   "outputs": [],
   "source": [
    "num_cameras = asi.get_num_cameras()"
   ]
  },
  {
   "cell_type": "code",
   "execution_count": 5,
   "metadata": {},
   "outputs": [
    {
     "name": "stdout",
     "output_type": "stream",
     "text": [
      "Found one camera: ZWO ASI178MC\n"
     ]
    }
   ],
   "source": [
    "if num_cameras == 1:\n",
    "    camera_id = 0\n",
    "    print('Found one camera: %s' % asi.list_cameras()[camera_id])\n",
    "camera = asi.Camera(camera_id)"
   ]
  },
  {
   "cell_type": "markdown",
   "metadata": {},
   "source": [
    "### Show Camera controls and properties"
   ]
  },
  {
   "cell_type": "code",
   "execution_count": 6,
   "metadata": {},
   "outputs": [
    {
     "name": "stdout",
     "output_type": "stream",
     "text": [
      "Camera Properties:\n",
      "Name                        : ZWO ASI178MC\n",
      "CameraID                    : 0         \n",
      "MaxHeight                   : 2080      \n",
      "MaxWidth                    : 3096      \n",
      "IsColorCam                  : 1         \n",
      "BayerPattern                : 0         \n",
      "BayerPattern decoded        : RGGB      \n",
      "SupportedBins               : [1, 2, 3, 4]\n",
      "SupportedVideoFormat        : [0, 1, 3, 2]\n",
      "SupportedVideoFormat decoded: [RAW8, RGB24, Y8, RAW16]\n",
      "PixelSize                   : 2.4       \n",
      "MechanicalShutter           : 0         \n",
      "ST4Port                     : 1         \n",
      "IsCoolerCam                 : 0         \n",
      "IsUSB3Host                  : 1         \n",
      "IsUSB3Camera                : 1         \n",
      "ElecPerADU                  : 0.051510464400053024\n",
      "Camera temperature          : 16.8°C\n",
      "\n",
      "Camera Controls:\n",
      "\n",
      "    AutoExpMaxExpMS:\n",
      "\n",
      "        ControlType: 11\n",
      "        DefaultValue: 100\n",
      "        Description: 'Auto exposure maximum exposure value(unit ms)'\n",
      "        IsAutoSupported: False\n",
      "        IsWritable: True\n",
      "        MaxValue: 60000\n",
      "        MinValue: 1\n",
      "        Name: 'AutoExpMaxExpMS'\n",
      "\n",
      "    AutoExpMaxGain:\n",
      "\n",
      "        ControlType: 10\n",
      "        DefaultValue: 255\n",
      "        Description: 'Auto exposure maximum gain value'\n",
      "        IsAutoSupported: False\n",
      "        IsWritable: True\n",
      "        MaxValue: 510\n",
      "        MinValue: 0\n",
      "        Name: 'AutoExpMaxGain'\n",
      "\n",
      "    AutoExpTargetBrightness:\n",
      "\n",
      "        ControlType: 12\n",
      "        DefaultValue: 100\n",
      "        Description: 'Auto exposure target brightness value'\n",
      "        IsAutoSupported: False\n",
      "        IsWritable: True\n",
      "        MaxValue: 160\n",
      "        MinValue: 50\n",
      "        Name: 'AutoExpTargetBrightness'\n",
      "\n",
      "    BandWidth:\n",
      "\n",
      "        ControlType: 6\n",
      "        DefaultValue: 50\n",
      "        Description: 'The total data transfer rate percentage'\n",
      "        IsAutoSupported: True\n",
      "        IsWritable: True\n",
      "        MaxValue: 100\n",
      "        MinValue: 40\n",
      "        Name: 'BandWidth'\n",
      "\n",
      "    Exposure:\n",
      "\n",
      "        ControlType: 1\n",
      "        DefaultValue: 10000\n",
      "        Description: 'Exposure Time(us)'\n",
      "        IsAutoSupported: True\n",
      "        IsWritable: True\n",
      "        MaxValue: 2000000000\n",
      "        MinValue: 32\n",
      "        Name: 'Exposure'\n",
      "\n",
      "    Flip:\n",
      "\n",
      "        ControlType: 9\n",
      "        DefaultValue: 0\n",
      "        Description: 'Flip: 0->None 1->Horiz 2->Vert 3->Both'\n",
      "        IsAutoSupported: False\n",
      "        IsWritable: True\n",
      "        MaxValue: 3\n",
      "        MinValue: 0\n",
      "        Name: 'Flip'\n",
      "\n",
      "    Gain:\n",
      "\n",
      "        ControlType: 0\n",
      "        DefaultValue: 210\n",
      "        Description: 'Gain'\n",
      "        IsAutoSupported: True\n",
      "        IsWritable: True\n",
      "        MaxValue: 510\n",
      "        MinValue: 0\n",
      "        Name: 'Gain'\n",
      "\n",
      "    HardwareBin:\n",
      "\n",
      "        ControlType: 13\n",
      "        DefaultValue: 0\n",
      "        Description: 'Is hardware bin2:0->No 1->Yes'\n",
      "        IsAutoSupported: False\n",
      "        IsWritable: True\n",
      "        MaxValue: 1\n",
      "        MinValue: 0\n",
      "        Name: 'HardwareBin'\n",
      "\n",
      "    HighSpeedMode:\n",
      "\n",
      "        ControlType: 14\n",
      "        DefaultValue: 0\n",
      "        Description: 'Is high speed mode:0->No 1->Yes'\n",
      "        IsAutoSupported: False\n",
      "        IsWritable: True\n",
      "        MaxValue: 1\n",
      "        MinValue: 0\n",
      "        Name: 'HighSpeedMode'\n",
      "\n",
      "    MonoBin:\n",
      "\n",
      "        ControlType: 18\n",
      "        DefaultValue: 0\n",
      "        Description: 'bin R G G B to one pixel for color camera, color will loss'\n",
      "        IsAutoSupported: False\n",
      "        IsWritable: True\n",
      "        MaxValue: 1\n",
      "        MinValue: 0\n",
      "        Name: 'MonoBin'\n",
      "\n",
      "    Offset:\n",
      "\n",
      "        ControlType: 5\n",
      "        DefaultValue: 10\n",
      "        Description: 'offset'\n",
      "        IsAutoSupported: False\n",
      "        IsWritable: True\n",
      "        MaxValue: 600\n",
      "        MinValue: 0\n",
      "        Name: 'Offset'\n",
      "\n",
      "    Temperature:\n",
      "\n",
      "        ControlType: 8\n",
      "        DefaultValue: 20\n",
      "        Description: 'Sensor temperature(degrees Celsius)'\n",
      "        IsAutoSupported: False\n",
      "        IsWritable: False\n",
      "        MaxValue: 1000\n",
      "        MinValue: -500\n",
      "        Name: 'Temperature'\n",
      "\n",
      "    WB_B:\n",
      "\n",
      "        ControlType: 4\n",
      "        DefaultValue: 90\n",
      "        Description: 'White balance: Blue component'\n",
      "        IsAutoSupported: True\n",
      "        IsWritable: True\n",
      "        MaxValue: 99\n",
      "        MinValue: 1\n",
      "        Name: 'WB_B'\n",
      "\n",
      "    WB_R:\n",
      "\n",
      "        ControlType: 3\n",
      "        DefaultValue: 70\n",
      "        Description: 'White balance: Red component'\n",
      "        IsAutoSupported: True\n",
      "        IsWritable: True\n",
      "        MaxValue: 99\n",
      "        MinValue: 1\n",
      "        Name: 'WB_R'\n"
     ]
    }
   ],
   "source": [
    "camera_info = camera.get_camera_property()\n",
    "print('Camera Properties:')\n",
    "for k, v in camera_info.items():\n",
    "    if isinstance(v, list):\n",
    "        print('{:<28}:'.format(k), '[%s]' % ', '.join(map(str, v)))\n",
    "        if k == 'SupportedVideoFormat':\n",
    "            print('{:<28}:'.format(k + ' decoded'), '[%s]' % ', '.\\\n",
    "                  join(map(lambda idx: str(imgformat[idx]), v)))\n",
    "    else:\n",
    "        print('{:<28}: {:<10}'.format(k, v))\n",
    "        if k == 'BayerPattern':\n",
    "            bayerindx = v\n",
    "            print('{:<28}: {:<10}'.format(k + ' decoded', bayerpatt[bayerindx]))\n",
    "print('Camera temperature          : {:4.1f}°C'.\\\n",
    "      format(camera.get_control_value(asi.ASI_TEMPERATURE)[0]/10))\n",
    "maxheight = camera_info['MaxHeight']\n",
    "maxwidth = camera_info['MaxWidth']\n",
    "controls = camera.get_controls()\n",
    "print('\\nCamera Controls:')\n",
    "for cn in sorted(controls.keys()):\n",
    "    print('\\n    %s:\\n' % cn)\n",
    "    for k in sorted(controls[cn].keys()):\n",
    "        print('        %s: %s' % (k, repr(controls[cn][k])))"
   ]
  },
  {
   "cell_type": "markdown",
   "metadata": {},
   "source": [
    "### Configure Camera Control Values"
   ]
  },
  {
   "cell_type": "code",
   "execution_count": 7,
   "metadata": {},
   "outputs": [],
   "source": [
    "# Use minimum USB bandwidth permitted (40%)\n",
    "camera.set_control_value(asi.ASI_BANDWIDTHOVERLOAD, 40)\n",
    "# Set Camera to low speed mode (14 bit ADC)\n",
    "camera.set_control_value(asi.ASI_HIGH_SPEED_MODE, 0)\n",
    "# Disable dark frame subtracting\n",
    "camera.disable_dark_subtract()\n",
    "# Set ROI, binning and image type (0:RAW8/1:RGB24/2:RAW16/3:Y8)\n",
    "imgtype = 2\n",
    "debayeralg = 'bl' #bilinear debayer algorithm\n",
    "camera.set_roi(0, 0, maxwidth, maxheight, 1, imgtype)\n",
    "camera.set_control_value(asi.ASI_EXPOSURE, 10000000, auto=False) # in us\n",
    "camera.set_control_value(asi.ASI_AUTO_MAX_EXP, 20000) # in ms\n",
    "camera.set_control_value(asi.ASI_GAIN, 250, auto=False)\n",
    "camera.set_control_value(asi.ASI_AUTO_MAX_GAIN, 250)\n",
    "camera.set_control_value(asi.ASI_WB_B, 90)\n",
    "camera.set_control_value(asi.ASI_WB_R, 70)\n",
    "camera.set_control_value(asi.ASI_GAMMA, 50)\n",
    "camera.set_control_value(asi.ASI_BRIGHTNESS, 50)\n",
    "camera.set_control_value(asi.ASI_FLIP, 3) # 0:Original/1:Horizontal/2:vertical/3:both"
   ]
  },
  {
   "cell_type": "markdown",
   "metadata": {},
   "source": [
    "### Image type parameters"
   ]
  },
  {
   "cell_type": "code",
   "execution_count": 8,
   "metadata": {},
   "outputs": [
    {
     "name": "stdout",
     "output_type": "stream",
     "text": [
      "Capturing a single, color (RAW16) image\n"
     ]
    }
   ],
   "source": [
    "# get parameters to decode image based on image type specification\n",
    "print('Capturing a single, ' + ('color' if camera_info['IsColorCam'] and \\\n",
    "                                imgtype != 3 else 'monochrome') + \\\n",
    "                                ' ('+imgformat[imgtype]+') image')\n",
    "if imgtype == asi.ASI_IMG_RAW8: #RAW8 Uninterpolated Bayer pattern 8bit per pixel\n",
    "    pixelstorage = 1\n",
    "    nparraytype = 'uint8'\n",
    "    channels = 1\n",
    "    fontcolor = [0, 0, 255]\n",
    "if imgtype == asi.ASI_IMG_RGB24: #RGB24 Interpolated 3 (RGB) channels per pixel\n",
    "    pixelstorage = 3\n",
    "    nparraytype = 'uint8'\n",
    "    channels = 3\n",
    "    fontcolor = [0, 0, 255]\n",
    "if imgtype == asi.ASI_IMG_RAW16: #RAW16 Uninterpolated Bayer pattern 16bin per pixel\n",
    "    pixelstorage = 2\n",
    "    nparraytype = 'uint16'\n",
    "    channels = 1\n",
    "    fontcolor = [0, 0, 255]\n",
    "if imgtype == 3: #Y8: One byte (Y) per Bayer pattern\n",
    "    pixelstorage = 1\n",
    "    nparraytype = 'uint8'\n",
    "    channels = 1\n",
    "    fontcolor = [0, 0, 255]"
   ]
  },
  {
   "cell_type": "markdown",
   "metadata": {},
   "source": [
    "### Prepare required datatypes"
   ]
  },
  {
   "cell_type": "code",
   "execution_count": 9,
   "metadata": {},
   "outputs": [
    {
     "name": "stdout",
     "output_type": "stream",
     "text": [
      "Masking aperture\n"
     ]
    }
   ],
   "source": [
    "# get bytearray for buffer to store image\n",
    "imgarray = bytearray(maxwidth*maxheight*pixelstorage)\n",
    "img = np.zeros((maxheight, maxwidth, 3), nparraytype)\n",
    "dodebayer = (imgtype == asi.ASI_IMG_RAW8 or imgtype == asi.ASI_IMG_RAW16) and debayeralg != 'none'\n",
    "\n",
    "# If aperture should be masked, apply circular masking\n",
    "print(\"Masking aperture\")\n",
    "#Define mask image of same size as image\n",
    "mask = np.zeros((maxheight, maxwidth, 3 if dodebayer else channels), dtype=nparraytype)\n",
    "#Define circle with origin in center of image and radius given by the smaller side of the image\n",
    "cv.circle(mask, (maxwidth//2, maxheight//2), min([maxwidth//2, maxheight//2]), (1, 1, 1), -1);"
   ]
  },
  {
   "cell_type": "markdown",
   "metadata": {},
   "source": [
    "### Capture one image"
   ]
  },
  {
   "cell_type": "code",
   "execution_count": 10,
   "metadata": {},
   "outputs": [],
   "source": [
    "# start video capture\n",
    "# Force any single exposure to be halted\n",
    "camera.stop_video_capture()\n",
    "camera.stop_exposure()\n",
    "# Capture one frame into imgarray buffer\n",
    "camera.start_video_capture()\n",
    "camera.capture_video_frame(buffer_=imgarray, filename=None, timeout=None)\n",
    "# Get current time\n",
    "timestring = datetime.datetime.now()\n",
    "# convert bytearray to numpy array\n",
    "nparray = np.frombuffer(imgarray, nparraytype)\n",
    "# Debayer image in the case of RAW8 or RAW16 images\n",
    "if dodebayer:\n",
    "    # reshape numpy array back to image matrix depending on image type.\n",
    "    # take care that opencv channel order is B,G,R instead of R,G,B\n",
    "    imgbay = nparray.reshape((maxheight, maxwidth, channels))\n",
    "    cv.cvtColor(imgbay, eval('cv.COLOR_BAYER_'+bayerpatt[bayerindx][2:][::-1]+\\\n",
    "                           '2BGR'), img, 0)\n",
    "else:\n",
    "    # reshape numpy array back to image matrix depending on image type\n",
    "    img = nparray.reshape((maxheight, maxwidth, channels))\n",
    "# postprocess image\n",
    "# Apply circular masking operation\n",
    "img *= mask\n",
    "camera.stop_video_capture()\n",
    "camera.stop_exposure()"
   ]
  },
  {
   "cell_type": "code",
   "execution_count": 11,
   "metadata": {},
   "outputs": [
    {
     "name": "stdout",
     "output_type": "stream",
     "text": [
      "# of Channels: 3 / Datatype: uint16\n",
      "# of distinct levels: 3 (2^2=4)\n"
     ]
    }
   ],
   "source": [
    "print('# of Channels: %d / Datatype: %s' % (img.shape[2], str(img.dtype)))\n",
    "unique, counts = np.unique(img.flatten(), return_counts=True)\n",
    "counts = len(dict(zip(unique, counts)))\n",
    "bits = ceil(log2(counts))\n",
    "print('# of distinct levels: %d (2^%d=%d)' % ( counts, bits, 2**bits))"
   ]
  },
  {
   "cell_type": "code",
   "execution_count": 12,
   "metadata": {},
   "outputs": [
    {
     "data": {
      "image/png": "[encoded data removed]",
      "text/plain": [
       "<Figure size 1080x1080 with 1 Axes>"
      ]
     },
     "metadata": {
      "needs_background": "light"
     },
     "output_type": "display_data"
    }
   ],
   "source": [
    "plt.figure(figsize=(15,15))\n",
    "plt.imshow(img/65535,cmap='gray')\n",
    "plt.axis('off')\n",
    "plt.title('Captured Image')\n",
    "plt.tight_layout()\n",
    "plt.show()"
   ]
  },
  {
   "cell_type": "code",
   "execution_count": 13,
   "metadata": {},
   "outputs": [],
   "source": [
    "camera.close()"
   ]
  },
  {
   "cell_type": "markdown",
   "metadata": {},
   "source": [
    "## Compare high-speed (10bitADC) with low-speed (14bitADC) image with respect to the number of pixel levels."
   ]
  },
  {
   "cell_type": "code",
   "execution_count": null,
   "metadata": {},
   "outputs": [],
   "source": [
    "print('10bitADC:')\n",
    "img = cv.imread('../tests/image20190905012252.png', cv.IMREAD_ANYCOLOR | cv.IMREAD_ANYDEPTH )\n",
    "print('# of Channels: %d / Datatype: %s' % (img.shape[2], str(img.dtype)))\n",
    "unique, counts = np.unique(img.flatten(), return_counts=True)\n",
    "counts = len(dict(zip(unique, counts)))\n",
    "bits = ceil(log2(counts))\n",
    "print('# of distinct levels: %d (2^%d=%d)' % ( counts, bits, 2**bits))\n",
    "print('14bitADC:')\n",
    "img = cv.imread('../tests/image20190915222325.png', cv.IMREAD_ANYCOLOR | cv.IMREAD_ANYDEPTH )\n",
    "print('# of Channels: %d / Datatype: %s' % (img.shape[2], str(img.dtype)))\n",
    "unique, counts = np.unique(img.flatten(), return_counts=True)\n",
    "counts = len(dict(zip(unique, counts)))\n",
    "bits = ceil(log2(counts))\n",
    "print('# of distinct levels: %d (2^%d=%d)' % ( counts, bits, 2**bits))"
   ]
  },
  {
   "cell_type": "markdown",
   "metadata": {},
   "source": [
    "# Insert new lines here"
   ]
  },
  {
   "cell_type": "code",
   "execution_count": null,
   "metadata": {},
   "outputs": [],
   "source": [
    "import skimage\n",
    "from skimage.morphology import watershed, disk\n",
    "from skimage.filters import threshold_otsu, try_all_threshold, rank\n",
    "from skimage.color import rgb2gray\n",
    "from skimage.io import imread\n",
    "from skimage.exposure import rescale_intensity\n",
    "\n",
    "from scipy import ndimage as ndi\n",
    "\n",
    "import matplotlib\n",
    "import matplotlib.pyplot as plt\n",
    "import sep"
   ]
  },
  {
   "cell_type": "markdown",
   "metadata": {},
   "source": [
    "Read in test files for testing the algorithm"
   ]
  },
  {
   "cell_type": "code",
   "execution_count": null,
   "metadata": {},
   "outputs": [],
   "source": [
    "#img = rgb2gray(imread('./tests/image20190403215022.png'))\n",
    "#img = rgb2gray(imread('./tests/image20190905012252.png'))\n",
    "#example image with 14bitADC (low speed mode) setting\n",
    "img = rgb2gray(imread('./images/20190915/image20190915221424.png'))\n",
    "matplotlib.rcParams['font.size'] = 9\n",
    "img = np.flip(img, 0)"
   ]
  },
  {
   "cell_type": "markdown",
   "metadata": {},
   "source": [
    "# measure a spatially varying background on the image"
   ]
  },
  {
   "cell_type": "code",
   "execution_count": null,
   "metadata": {},
   "outputs": [],
   "source": [
    "bkg = sep.Background(img)"
   ]
  },
  {
   "cell_type": "code",
   "execution_count": null,
   "metadata": {},
   "outputs": [],
   "source": [
    "# get a \"global\" mean and noise of the image background:\n",
    "print(bkg.globalback)\n",
    "print(bkg.globalrms)\n",
    "# evaluate background as 2-d array, same size as original image\n",
    "bkg_image = bkg.back()\n",
    "# bkg_image = np.array(bkg) # equivalent to above"
   ]
  },
  {
   "cell_type": "code",
   "execution_count": null,
   "metadata": {},
   "outputs": [],
   "source": [
    "# show the background\n",
    "plt.figure(figsize = (15,15))\n",
    "plt.imshow(bkg_image, interpolation='nearest', cmap='gray', origin='lower')\n",
    "plt.colorbar();"
   ]
  },
  {
   "cell_type": "code",
   "execution_count": null,
   "metadata": {},
   "outputs": [],
   "source": [
    "# evaluate the background noise as 2-d array, same size as original image\n",
    "bkg_rms = bkg.rms()"
   ]
  },
  {
   "cell_type": "code",
   "execution_count": null,
   "metadata": {},
   "outputs": [],
   "source": [
    "# show the background noise\n",
    "plt.figure(figsize = (15,15))\n",
    "plt.imshow(bkg_rms, interpolation='nearest', cmap='gray', origin='lower')\n",
    "plt.colorbar();"
   ]
  },
  {
   "cell_type": "code",
   "execution_count": null,
   "metadata": {},
   "outputs": [],
   "source": [
    "# subtract the background\n",
    "img_sub = img - bkg\n",
    "# show the image with background subtracted\n",
    "plt.figure(figsize = (15,15))\n",
    "plt.imshow(img_sub, interpolation='nearest', cmap='gray', origin='lower')\n",
    "plt.colorbar();"
   ]
  },
  {
   "cell_type": "markdown",
   "metadata": {},
   "source": [
    "First do contrast enhancement by stretching the histogram"
   ]
  },
  {
   "cell_type": "code",
   "execution_count": null,
   "metadata": {},
   "outputs": [],
   "source": [
    "p2, p98 = np.percentile(img, (2, 98))\n",
    "imgo = rescale_intensity(img, in_range=(p2, p98))"
   ]
  },
  {
   "cell_type": "markdown",
   "metadata": {},
   "source": [
    "Do segmentation on grayscale image and denoise it"
   ]
  },
  {
   "cell_type": "code",
   "execution_count": null,
   "metadata": {},
   "outputs": [],
   "source": [
    "gray = skimage.img_as_ubyte(skimage.color.rgb2gray(imgo))\n",
    "denoised = rank.median(gray,disk(2))"
   ]
  },
  {
   "cell_type": "code",
   "execution_count": null,
   "metadata": {},
   "outputs": [],
   "source": [
    "fig, ax = plt.subplots(figsize=(20, 20))\n",
    "ax.imshow(gray,cmap='gray')\n",
    "ax.set_axis_off()\n",
    "plt.tight_layout()"
   ]
  },
  {
   "cell_type": "markdown",
   "metadata": {},
   "source": [
    "Plot histogram of image"
   ]
  },
  {
   "cell_type": "code",
   "execution_count": null,
   "metadata": {},
   "outputs": [],
   "source": [
    "plt.hist(gray.ravel(),bins=256,range=(1,254));"
   ]
  },
  {
   "cell_type": "markdown",
   "metadata": {},
   "source": [
    "Mark sections for watershed algorithm:\n",
    "find continuous region (low gradient - where less than 10 for this image) --> markers\n",
    "disk(10) is used here to get a more smooth image"
   ]
  },
  {
   "cell_type": "code",
   "execution_count": null,
   "metadata": {},
   "outputs": [],
   "source": [
    "markers = rank.gradient(denoised, disk(10)) < 15\n",
    "markers = ndi.label(markers)[0]\n",
    "fig, ax = plt.subplots(figsize=(20, 20))\n",
    "plt.imshow(markers, cmap=plt.cm.nipy_spectral, interpolation='nearest')"
   ]
  },
  {
   "cell_type": "markdown",
   "metadata": {},
   "source": [
    "Show elevation map of image"
   ]
  },
  {
   "cell_type": "code",
   "execution_count": null,
   "metadata": {},
   "outputs": [],
   "source": [
    "from skimage.filters import sobel\n",
    "elevation_map = sobel(gray)\n",
    "\n",
    "fig, ax = plt.subplots(figsize=(15, 15))\n",
    "ax.imshow(elevation_map, cmap=plt.cm.gray, interpolation='nearest')\n",
    "ax.set_title('elevation map')\n",
    "ax.axis('off');"
   ]
  },
  {
   "cell_type": "markdown",
   "metadata": {},
   "source": [
    "Do watershed segmentation"
   ]
  },
  {
   "cell_type": "code",
   "execution_count": null,
   "metadata": {},
   "outputs": [],
   "source": [
    "labels = watershed(elevation_map, markers)"
   ]
  },
  {
   "cell_type": "code",
   "execution_count": null,
   "metadata": {},
   "outputs": [],
   "source": [
    "plt.subplots(figsize=(15, 15))\n",
    "plt.imshow(labels, cmap=plt.cm.nipy_spectral, interpolation='nearest', alpha=.7)"
   ]
  },
  {
   "cell_type": "code",
   "execution_count": null,
   "metadata": {},
   "outputs": [],
   "source": [
    "fig, ax = plt.subplots(2, 2, figsize=(16, 10), sharex=True, sharey=True,\n",
    "                       subplot_kw={'adjustable': 'box-forced'})\n",
    "ax0, ax1, ax2, ax3 = ax.ravel()\n",
    "plt.tight_layout()\n",
    "\n",
    "ax0.imshow(img, cmap=plt.cm.gray)\n",
    "ax0.set_title('Original')\n",
    "ax0.axis('off')\n",
    "\n",
    "ax2.imshow(try_all, cmap=plt.cm.gray)\n",
    "ax2.set_title('Original >= Local Otsu' % threshold_global_otsu)\n",
    "ax2.axis('off')\n",
    "\n",
    "ax3.imshow(global_otsu, cmap=plt.cm.gray)\n",
    "ax3.set_title('Global Otsu (threshold = %d)' % threshold_global_otsu)\n",
    "ax3.axis('off')\n",
    "\n",
    "plt.tight_layout()\n",
    "plt.show()"
   ]
  },
  {
   "cell_type": "code",
   "execution_count": null,
   "metadata": {},
   "outputs": [],
   "source": []
  }
 ],
 "metadata": {
  "kernelspec": {
   "display_name": "Python 3",
   "language": "python",
   "name": "python3"
  },
  "language_info": {
   "codemirror_mode": {
    "name": "ipython",
    "version": 3
   },
   "file_extension": ".py",
   "mimetype": "text/x-python",
   "name": "python",
   "nbconvert_exporter": "python",
   "pygments_lexer": "ipython3",
   "version": "3.6.9"
  }
 },
 "nbformat": 4,
 "nbformat_minor": 2
}
