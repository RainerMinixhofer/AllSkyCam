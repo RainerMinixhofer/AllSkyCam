{
 "cells": [
  {
   "cell_type": "markdown",
   "metadata": {},
   "source": [
    "# High Dynamic Range Imaging using the colour-hdri package - Merge from Low Dynamic Range Files"
   ]
  },
  {
   "cell_type": "markdown",
   "metadata": {},
   "source": [
    "## Initialize"
   ]
  },
  {
   "cell_type": "markdown",
   "metadata": {},
   "source": [
    "Through this example, the analemma example PNG files will be merged together in order to create a single radiance image.\n",
    "\n",
    "The following steps will be taken:\n",
    "\n",
    "- Creation of a camera response functions computation dedicated image stack using cherry picked PNG files. The two files with lowest luminance are discarded as their contribution is biasing the resulting camera response functions.\n",
    "- Computation of the camera response functions.\n",
    "- Creation of an image stack using PNG files.\n",
    "- Merging of the image stack into a radiance image using the camera response functions.\n",
    "- Display of the final resulting radiance image."
   ]
  },
  {
   "cell_type": "code",
   "execution_count": 1,
   "metadata": {},
   "outputs": [
    {
     "name": "stderr",
     "output_type": "stream",
     "text": [
      "/home/rainer/.local/lib/python3.6/site-packages/colour/utilities/verbose.py:235: ColourWarning: \"Adobe DNG Converter\" is not available on your platform!\n",
      "  warn(*args, **kwargs)\n"
     ]
    },
    {
     "name": "stdout",
     "output_type": "stream",
     "text": [
      "===============================================================================\n",
      "*                                                                             *\n",
      "*   Interpreter :                                                             *\n",
      "*       python : 3.6.8 (default, Oct  7 2019, 12:59:55)                       *\n",
      "*                [GCC 8.3.0]                                                  *\n",
      "*                                                                             *\n",
      "*   colour-science.org :                                                      *\n",
      "*       colour : 0.3.14                                                       *\n",
      "*       colour-hdri : 0.1.6                                                   *\n",
      "*                                                                             *\n",
      "*   Runtime :                                                                 *\n",
      "*       imageio : 2.6.1                                                       *\n",
      "*       matplotlib : 3.0.3                                                    *\n",
      "*       networkx : 2.2                                                        *\n",
      "*       numpy : 1.17.4                                                        *\n",
      "*       pandas : 0.24.2                                                       *\n",
      "*       scipy : 1.3.3                                                         *\n",
      "*       six : 1.13.0                                                          *\n",
      "*       recordclass : 0.12.0.1                                                *\n",
      "*                                                                             *\n",
      "===============================================================================\n"
     ]
    }
   ],
   "source": [
    "import glob\n",
    "import logging\n",
    "import matplotlib.pyplot as plt\n",
    "import numpy as np\n",
    "import os\n",
    "import shlex\n",
    "import subprocess\n",
    "\n",
    "import colour\n",
    "from colour.plotting import *\n",
    "\n",
    "from colour_hdri import (\n",
    "    ImageStack,\n",
    "    camera_response_functions_Debevec1997,\n",
    "    filter_files,\n",
    "    image_stack_to_radiance_image,\n",
    "    weighting_function_Debevec1997)\n",
    "from colour_hdri.plotting import plot_radiance_image_strip\n",
    "\n",
    "logging.basicConfig(level=logging.INFO)\n",
    "\n",
    "RESOURCES_DIRECTORY = os.path.join(os.getcwd(), 'analemmaexample')\n",
    "\n",
    "colour.utilities.filter_warnings()\n",
    "\n",
    "colour.utilities.describe_environment();"
   ]
  },
  {
   "cell_type": "code",
   "execution_count": 2,
   "metadata": {},
   "outputs": [],
   "source": [
    "colour_style();"
   ]
  },
  {
   "cell_type": "markdown",
   "metadata": {},
   "source": [
    "## Camera Response Functions Computation"
   ]
  },
  {
   "cell_type": "code",
   "execution_count": 3,
   "metadata": {},
   "outputs": [
    {
     "name": "stderr",
     "output_type": "stream",
     "text": [
      "INFO:root:Reading \"/home/rainer/Documents/AllSkyCam/AllSkyCapture/hdr/analemmaexample/analemma20191211115824_120.png\" image.\n",
      "INFO:root:Reading \"/home/rainer/Documents/AllSkyCam/AllSkyCapture/hdr/analemmaexample/analemma20191211115824_120.png\" image metadata.\n",
      "INFO:root:Reading '/home/rainer/Documents/AllSkyCam/AllSkyCapture/hdr/analemmaexample/analemma20191211115824_120.png' image exif data.\n",
      "INFO:root:Reading \"/home/rainer/Documents/AllSkyCam/AllSkyCapture/hdr/analemmaexample/analemma20191211115824_1931.png\" image.\n",
      "INFO:root:Reading \"/home/rainer/Documents/AllSkyCam/AllSkyCapture/hdr/analemmaexample/analemma20191211115824_1931.png\" image metadata.\n",
      "INFO:root:Reading '/home/rainer/Documents/AllSkyCam/AllSkyCapture/hdr/analemmaexample/analemma20191211115824_1931.png' image exif data.\n",
      "INFO:root:Reading \"/home/rainer/Documents/AllSkyCam/AllSkyCapture/hdr/analemmaexample/analemma20191211115824_241.png\" image.\n",
      "INFO:root:Reading \"/home/rainer/Documents/AllSkyCam/AllSkyCapture/hdr/analemmaexample/analemma20191211115824_241.png\" image metadata.\n",
      "INFO:root:Reading '/home/rainer/Documents/AllSkyCam/AllSkyCapture/hdr/analemmaexample/analemma20191211115824_241.png' image exif data.\n",
      "INFO:root:Reading \"/home/rainer/Documents/AllSkyCam/AllSkyCapture/hdr/analemmaexample/analemma20191211115824_32.png\" image.\n",
      "INFO:root:Reading \"/home/rainer/Documents/AllSkyCam/AllSkyCapture/hdr/analemmaexample/analemma20191211115824_32.png\" image metadata.\n",
      "INFO:root:Reading '/home/rainer/Documents/AllSkyCam/AllSkyCapture/hdr/analemmaexample/analemma20191211115824_32.png' image exif data.\n",
      "INFO:root:Reading \"/home/rainer/Documents/AllSkyCam/AllSkyCapture/hdr/analemmaexample/analemma20191211115824_3862.png\" image.\n",
      "INFO:root:Reading \"/home/rainer/Documents/AllSkyCam/AllSkyCapture/hdr/analemmaexample/analemma20191211115824_3862.png\" image metadata.\n",
      "INFO:root:Reading '/home/rainer/Documents/AllSkyCam/AllSkyCapture/hdr/analemmaexample/analemma20191211115824_3862.png' image exif data.\n",
      "INFO:root:Reading \"/home/rainer/Documents/AllSkyCam/AllSkyCapture/hdr/analemmaexample/analemma20191211115824_482.png\" image.\n",
      "INFO:root:Reading \"/home/rainer/Documents/AllSkyCam/AllSkyCapture/hdr/analemmaexample/analemma20191211115824_482.png\" image metadata.\n",
      "INFO:root:Reading '/home/rainer/Documents/AllSkyCam/AllSkyCapture/hdr/analemmaexample/analemma20191211115824_482.png' image exif data.\n",
      "INFO:root:Reading \"/home/rainer/Documents/AllSkyCam/AllSkyCapture/hdr/analemmaexample/analemma20191211115824_60.png\" image.\n",
      "INFO:root:Reading \"/home/rainer/Documents/AllSkyCam/AllSkyCapture/hdr/analemmaexample/analemma20191211115824_60.png\" image metadata.\n",
      "INFO:root:Reading '/home/rainer/Documents/AllSkyCam/AllSkyCapture/hdr/analemmaexample/analemma20191211115824_60.png' image exif data.\n",
      "INFO:root:Reading \"/home/rainer/Documents/AllSkyCam/AllSkyCapture/hdr/analemmaexample/analemma20191211115824_7724.png\" image.\n",
      "INFO:root:Reading \"/home/rainer/Documents/AllSkyCam/AllSkyCapture/hdr/analemmaexample/analemma20191211115824_7724.png\" image metadata.\n",
      "INFO:root:Reading '/home/rainer/Documents/AllSkyCam/AllSkyCapture/hdr/analemmaexample/analemma20191211115824_7724.png' image exif data.\n",
      "INFO:root:Reading \"/home/rainer/Documents/AllSkyCam/AllSkyCapture/hdr/analemmaexample/analemma20191211115824_965.png\" image.\n",
      "INFO:root:Reading \"/home/rainer/Documents/AllSkyCam/AllSkyCapture/hdr/analemmaexample/analemma20191211115824_965.png\" image metadata.\n",
      "INFO:root:Reading '/home/rainer/Documents/AllSkyCam/AllSkyCapture/hdr/analemmaexample/analemma20191211115824_965.png' image exif data.\n",
      "/home/rainer/.local/lib/python3.6/site-packages/colour_hdri/calibration/debevec1997.py:106: FutureWarning: `rcond` parameter will change to the default of machine precision times ``max(M, N)`` where M and N are the input matrix dimensions.\n",
      "To use the future default and silence this warning we advise to pass `rcond=None`, to keep using the old, explicitly pass `rcond=-1`.\n",
      "  x = np.squeeze(np.linalg.lstsq(A, b)[0])\n"
     ]
    },
    {
     "data": {
      "image/png": "[encoded data removed]",
      "text/plain": [
       "<Figure size 1280x720 with 1 Axes>"
      ]
     },
     "metadata": {
      "needs_background": "light"
     },
     "output_type": "display_data"
    }
   ],
   "source": [
    "PNG_FILES = sorted(glob.glob('{0}/*.png'.format(RESOURCES_DIRECTORY)))\n",
    "CRFS = camera_response_functions_Debevec1997(\n",
    "    ImageStack.from_files(PNG_FILES))\n",
    "\n",
    "CRFS = CRFS[np.all(CRFS, axis=1)]\n",
    "\n",
    "CRFS = colour.utilities.linear_conversion(CRFS, (np.min(CRFS), 1), (0, 1))\n",
    "\n",
    "plt.plot(CRFS)\n",
    "plt.show();"
   ]
  },
  {
   "cell_type": "markdown",
   "metadata": {},
   "source": [
    "## Radiance Image Merge"
   ]
  },
  {
   "cell_type": "code",
   "execution_count": 4,
   "metadata": {},
   "outputs": [
    {
     "name": "stderr",
     "output_type": "stream",
     "text": [
      "INFO:root:Reading \"/home/rainer/Documents/AllSkyCam/AllSkyCapture/hdr/analemmaexample/analemma20191211115824_120.png\" image.\n",
      "INFO:root:Reading \"/home/rainer/Documents/AllSkyCam/AllSkyCapture/hdr/analemmaexample/analemma20191211115824_120.png\" image metadata.\n",
      "INFO:root:Reading '/home/rainer/Documents/AllSkyCam/AllSkyCapture/hdr/analemmaexample/analemma20191211115824_120.png' image exif data.\n",
      "INFO:root:Reading \"/home/rainer/Documents/AllSkyCam/AllSkyCapture/hdr/analemmaexample/analemma20191211115824_1931.png\" image.\n",
      "INFO:root:Reading \"/home/rainer/Documents/AllSkyCam/AllSkyCapture/hdr/analemmaexample/analemma20191211115824_1931.png\" image metadata.\n",
      "INFO:root:Reading '/home/rainer/Documents/AllSkyCam/AllSkyCapture/hdr/analemmaexample/analemma20191211115824_1931.png' image exif data.\n",
      "INFO:root:Reading \"/home/rainer/Documents/AllSkyCam/AllSkyCapture/hdr/analemmaexample/analemma20191211115824_241.png\" image.\n",
      "INFO:root:Reading \"/home/rainer/Documents/AllSkyCam/AllSkyCapture/hdr/analemmaexample/analemma20191211115824_241.png\" image metadata.\n",
      "INFO:root:Reading '/home/rainer/Documents/AllSkyCam/AllSkyCapture/hdr/analemmaexample/analemma20191211115824_241.png' image exif data.\n",
      "INFO:root:Reading \"/home/rainer/Documents/AllSkyCam/AllSkyCapture/hdr/analemmaexample/analemma20191211115824_32.png\" image.\n",
      "INFO:root:Reading \"/home/rainer/Documents/AllSkyCam/AllSkyCapture/hdr/analemmaexample/analemma20191211115824_32.png\" image metadata.\n",
      "INFO:root:Reading '/home/rainer/Documents/AllSkyCam/AllSkyCapture/hdr/analemmaexample/analemma20191211115824_32.png' image exif data.\n",
      "INFO:root:Reading \"/home/rainer/Documents/AllSkyCam/AllSkyCapture/hdr/analemmaexample/analemma20191211115824_3862.png\" image.\n",
      "INFO:root:Reading \"/home/rainer/Documents/AllSkyCam/AllSkyCapture/hdr/analemmaexample/analemma20191211115824_3862.png\" image metadata.\n",
      "INFO:root:Reading '/home/rainer/Documents/AllSkyCam/AllSkyCapture/hdr/analemmaexample/analemma20191211115824_3862.png' image exif data.\n",
      "INFO:root:Merging \"/home/rainer/Documents/AllSkyCam/AllSkyCapture/hdr/analemma20191211115824_32_5_MLF.exr\"...\n",
      "INFO:root:\tImage stack \"F Number\" (Exif): [ 2.  2.  2.  2.  2.]\n",
      "INFO:root:\tImage stack \"Exposure Time\" (Exif): [  3.20000000e-05   1.20000000e-04   2.40999998e-04   1.93100001e-03\n",
      "   3.86200002e-03]\n",
      "INFO:root:\tImage stack \"ISO\" (Exif): [ 100.  100.  100.  100.  100.]\n",
      "INFO:root:Writing \"/home/rainer/Documents/AllSkyCam/AllSkyCapture/hdr/analemma20191211115824_32_5_MLF.exr\"...\n"
     ]
    },
    {
     "ename": "ValueError",
     "evalue": "Could not find a format to write the specified file in mode 'i'",
     "output_type": "error",
     "traceback": [
      "\u001b[0;31m---------------------------------------------------------------------------\u001b[0m",
      "\u001b[0;31mValueError\u001b[0m                                Traceback (most recent call last)",
      "\u001b[0;32m<ipython-input-4-c605195a034c>\u001b[0m in \u001b[0;36m<module>\u001b[0;34m\u001b[0m\n\u001b[1;32m     33\u001b[0m \u001b[0;34m\u001b[0m\u001b[0m\n\u001b[1;32m     34\u001b[0m PATHS = merge_from_ldr_files(\n\u001b[0;32m---> 35\u001b[0;31m     PNG_FILES, os.getcwd(), CRFS)\n\u001b[0m",
      "\u001b[0;32m<ipython-input-4-c605195a034c>\u001b[0m in \u001b[0;36mmerge_from_ldr_files\u001b[0;34m(ldr_files, output_directory, camera_response_functions, batch_size)\u001b[0m\n\u001b[1;32m     28\u001b[0m \u001b[0;34m\u001b[0m\u001b[0m\n\u001b[1;32m     29\u001b[0m         \u001b[0mlogging\u001b[0m\u001b[0;34m.\u001b[0m\u001b[0minfo\u001b[0m\u001b[0;34m(\u001b[0m\u001b[0;34m'Writing \"{0}\"...'\u001b[0m\u001b[0;34m.\u001b[0m\u001b[0mformat\u001b[0m\u001b[0;34m(\u001b[0m\u001b[0mpath\u001b[0m\u001b[0;34m)\u001b[0m\u001b[0;34m)\u001b[0m\u001b[0;34m\u001b[0m\u001b[0;34m\u001b[0m\u001b[0m\n\u001b[0;32m---> 30\u001b[0;31m         \u001b[0mcolour\u001b[0m\u001b[0;34m.\u001b[0m\u001b[0mwrite_image\u001b[0m\u001b[0;34m(\u001b[0m\u001b[0mimage\u001b[0m\u001b[0;34m,\u001b[0m \u001b[0mpath\u001b[0m\u001b[0;34m)\u001b[0m\u001b[0;34m\u001b[0m\u001b[0;34m\u001b[0m\u001b[0m\n\u001b[0m\u001b[1;32m     31\u001b[0m \u001b[0;34m\u001b[0m\u001b[0m\n\u001b[1;32m     32\u001b[0m     \u001b[0;32mreturn\u001b[0m \u001b[0mpaths\u001b[0m\u001b[0;34m\u001b[0m\u001b[0;34m\u001b[0m\u001b[0m\n",
      "\u001b[0;32m~/.local/lib/python3.6/site-packages/colour/io/image.py\u001b[0m in \u001b[0;36mwrite_image\u001b[0;34m(image, path, bit_depth, method, **kwargs)\u001b[0m\n\u001b[1;32m    588\u001b[0m         \u001b[0mkwargs\u001b[0m \u001b[0;34m=\u001b[0m \u001b[0mfilter_kwargs\u001b[0m\u001b[0;34m(\u001b[0m\u001b[0mfunction\u001b[0m\u001b[0;34m,\u001b[0m \u001b[0;34m**\u001b[0m\u001b[0mkwargs\u001b[0m\u001b[0;34m)\u001b[0m\u001b[0;34m\u001b[0m\u001b[0;34m\u001b[0m\u001b[0m\n\u001b[1;32m    589\u001b[0m \u001b[0;34m\u001b[0m\u001b[0m\n\u001b[0;32m--> 590\u001b[0;31m     \u001b[0;32mreturn\u001b[0m \u001b[0mfunction\u001b[0m\u001b[0;34m(\u001b[0m\u001b[0mimage\u001b[0m\u001b[0;34m,\u001b[0m \u001b[0mpath\u001b[0m\u001b[0;34m,\u001b[0m \u001b[0mbit_depth\u001b[0m\u001b[0;34m,\u001b[0m \u001b[0;34m**\u001b[0m\u001b[0mkwargs\u001b[0m\u001b[0;34m)\u001b[0m\u001b[0;34m\u001b[0m\u001b[0;34m\u001b[0m\u001b[0m\n\u001b[0m",
      "\u001b[0;32m~/.local/lib/python3.6/site-packages/colour/io/image.py\u001b[0m in \u001b[0;36mwrite_image_Imageio\u001b[0;34m(image, path, bit_depth, **kwargs)\u001b[0m\n\u001b[1;32m    497\u001b[0m     \u001b[0mimage\u001b[0m \u001b[0;34m=\u001b[0m \u001b[0mconvert_bit_depth\u001b[0m\u001b[0;34m(\u001b[0m\u001b[0mimage\u001b[0m\u001b[0;34m,\u001b[0m \u001b[0mbit_depth\u001b[0m\u001b[0;34m)\u001b[0m\u001b[0;34m\u001b[0m\u001b[0;34m\u001b[0m\u001b[0m\n\u001b[1;32m    498\u001b[0m \u001b[0;34m\u001b[0m\u001b[0m\n\u001b[0;32m--> 499\u001b[0;31m     \u001b[0;32mreturn\u001b[0m \u001b[0mimwrite\u001b[0m\u001b[0;34m(\u001b[0m\u001b[0mpath\u001b[0m\u001b[0;34m,\u001b[0m \u001b[0mimage\u001b[0m\u001b[0;34m,\u001b[0m \u001b[0;34m**\u001b[0m\u001b[0mkwargs\u001b[0m\u001b[0;34m)\u001b[0m\u001b[0;34m\u001b[0m\u001b[0;34m\u001b[0m\u001b[0m\n\u001b[0m\u001b[1;32m    500\u001b[0m \u001b[0;34m\u001b[0m\u001b[0m\n\u001b[1;32m    501\u001b[0m \u001b[0;34m\u001b[0m\u001b[0m\n",
      "\u001b[0;32m~/.local/lib/python3.6/site-packages/imageio/core/functions.py\u001b[0m in \u001b[0;36mimwrite\u001b[0;34m(uri, im, format, **kwargs)\u001b[0m\n\u001b[1;32m    300\u001b[0m \u001b[0;34m\u001b[0m\u001b[0m\n\u001b[1;32m    301\u001b[0m     \u001b[0;31m# Get writer and write first\u001b[0m\u001b[0;34m\u001b[0m\u001b[0;34m\u001b[0m\u001b[0;34m\u001b[0m\u001b[0m\n\u001b[0;32m--> 302\u001b[0;31m     \u001b[0mwriter\u001b[0m \u001b[0;34m=\u001b[0m \u001b[0mget_writer\u001b[0m\u001b[0;34m(\u001b[0m\u001b[0muri\u001b[0m\u001b[0;34m,\u001b[0m \u001b[0mformat\u001b[0m\u001b[0;34m,\u001b[0m \u001b[0;34m\"i\"\u001b[0m\u001b[0;34m,\u001b[0m \u001b[0;34m**\u001b[0m\u001b[0mkwargs\u001b[0m\u001b[0;34m)\u001b[0m\u001b[0;34m\u001b[0m\u001b[0;34m\u001b[0m\u001b[0m\n\u001b[0m\u001b[1;32m    303\u001b[0m     \u001b[0;32mwith\u001b[0m \u001b[0mwriter\u001b[0m\u001b[0;34m:\u001b[0m\u001b[0;34m\u001b[0m\u001b[0;34m\u001b[0m\u001b[0m\n\u001b[1;32m    304\u001b[0m         \u001b[0mwriter\u001b[0m\u001b[0;34m.\u001b[0m\u001b[0mappend_data\u001b[0m\u001b[0;34m(\u001b[0m\u001b[0mim\u001b[0m\u001b[0;34m)\u001b[0m\u001b[0;34m\u001b[0m\u001b[0;34m\u001b[0m\u001b[0m\n",
      "\u001b[0;32m~/.local/lib/python3.6/site-packages/imageio/core/functions.py\u001b[0m in \u001b[0;36mget_writer\u001b[0;34m(uri, format, mode, **kwargs)\u001b[0m\n\u001b[1;32m    224\u001b[0m     \u001b[0;32mif\u001b[0m \u001b[0mformat\u001b[0m \u001b[0;32mis\u001b[0m \u001b[0;32mNone\u001b[0m\u001b[0;34m:\u001b[0m\u001b[0;34m\u001b[0m\u001b[0;34m\u001b[0m\u001b[0m\n\u001b[1;32m    225\u001b[0m         raise ValueError(\n\u001b[0;32m--> 226\u001b[0;31m             \u001b[0;34m\"Could not find a format to write the specified file \"\u001b[0m \u001b[0;34m\"in mode %r\"\u001b[0m \u001b[0;34m%\u001b[0m \u001b[0mmode\u001b[0m\u001b[0;34m\u001b[0m\u001b[0;34m\u001b[0m\u001b[0m\n\u001b[0m\u001b[1;32m    227\u001b[0m         )\n\u001b[1;32m    228\u001b[0m \u001b[0;34m\u001b[0m\u001b[0m\n",
      "\u001b[0;31mValueError\u001b[0m: Could not find a format to write the specified file in mode 'i'"
     ]
    }
   ],
   "source": [
    "def merge_from_ldr_files(\n",
    "        ldr_files,\n",
    "        output_directory,\n",
    "        camera_response_functions,\n",
    "        batch_size=5):\n",
    "    paths = []\n",
    "    for ldr_files in colour.utilities.batch(ldr_files, batch_size):\n",
    "        image_stack = ImageStack.from_files(ldr_files)\n",
    "\n",
    "        path = os.path.join(\n",
    "            output_directory,\n",
    "            '{0}_{1}_MLF.{2}'.format(\n",
    "                os.path.splitext(os.path.basename(image_stack.path[0]))[0],\n",
    "                batch_size,\n",
    "                'exr'))\n",
    "        paths.append(path)\n",
    "        \n",
    "        logging.info('Merging \"{0}\"...'.format(path))\n",
    "        logging.info('\\tImage stack \"F Number\" (Exif): {0}'.format(\n",
    "            image_stack.f_number))\n",
    "        logging.info('\\tImage stack \"Exposure Time\" (Exif): {0}'.format(\n",
    "            image_stack.exposure_time))\n",
    "        logging.info('\\tImage stack \"ISO\" (Exif): {0}'.format(\n",
    "            image_stack.iso))\n",
    "        image = image_stack_to_radiance_image(\n",
    "            image_stack, camera_response_functions=camera_response_functions)\n",
    "        image[np.isnan(image)] = 0\n",
    "\n",
    "        logging.info('Writing \"{0}\"...'.format(path))\n",
    "        colour.write_image(image, path)\n",
    "\n",
    "    return paths\n",
    "\n",
    "PATHS = merge_from_ldr_files(\n",
    "    PNG_FILES, os.getcwd(), CRFS)"
   ]
  },
  {
   "cell_type": "markdown",
   "metadata": {},
   "source": [
    "## Radiance Image Display"
   ]
  },
  {
   "cell_type": "code",
   "execution_count": null,
   "metadata": {},
   "outputs": [],
   "source": [
    "plot_radiance_image_strip(colour.read_image(PATHS[0]));"
   ]
  },
  {
   "cell_type": "markdown",
   "metadata": {},
   "source": [
    "# ***High Dynamic Range Imaging*** from [OpenCV Tutorial](https://docs.opencv.org/3.4/d3/db7/tutorial_hdr_imaging.html)"
   ]
  },
  {
   "cell_type": "code",
   "execution_count": null,
   "metadata": {},
   "outputs": [],
   "source": [
    "%matplotlib inline\n",
    "import os\n",
    "import numpy as np\n",
    "import cv2 as cv\n",
    "from IPython.display import Image"
   ]
  },
  {
   "cell_type": "markdown",
   "metadata": {},
   "source": [
    "## Load images and exposure times"
   ]
  },
  {
   "cell_type": "markdown",
   "metadata": {},
   "source": [
    "Get all pathnames of exposure scaled images. We load input images and exposure times from user-defined folder. The folder should contain images and list.txt - file that contains file names and inverse exposure times"
   ]
  },
  {
   "cell_type": "code",
   "execution_count": null,
   "metadata": {},
   "outputs": [],
   "source": [
    "images = []\n",
    "times = []\n",
    "path = os.getcwd() + '/tonemap/exposures/'"
   ]
  },
  {
   "cell_type": "markdown",
   "metadata": {},
   "source": [
    "Read list of image file names and exposures into list, split the file name and exposure and read images into array images and exposure times into array times"
   ]
  },
  {
   "cell_type": "code",
   "execution_count": null,
   "metadata": {},
   "outputs": [],
   "source": [
    "with open(os.path.join(path, 'list.txt')) as f:\n",
    "    content = f.readlines()\n",
    "for line in content:\n",
    "    tokens = line.split()\n",
    "    images.append(cv.imread(os.path.join(path, tokens[0])))\n",
    "    times.append(1 / float(tokens[1]))\n",
    "times = np.asarray(times, dtype=np.float32)"
   ]
  },
  {
   "cell_type": "markdown",
   "metadata": {},
   "source": [
    "## Estimate camera response"
   ]
  },
  {
   "cell_type": "markdown",
   "metadata": {},
   "source": [
    "It is necessary to know camera response function (CRF) for a lot of HDR construction algorithms. We use one of the calibration algorithms to estimate inverse CRF for all 256 pixel values."
   ]
  },
  {
   "cell_type": "code",
   "execution_count": null,
   "metadata": {},
   "outputs": [],
   "source": [
    "calibrate = cv.createCalibrateDebevec()\n",
    "response = calibrate.process(images, times)"
   ]
  },
  {
   "cell_type": "markdown",
   "metadata": {},
   "source": [
    "## Make HDR image"
   ]
  },
  {
   "cell_type": "markdown",
   "metadata": {},
   "source": [
    "We use Debevec's weighting scheme to construct HDR image using response calculated in the previous item."
   ]
  },
  {
   "cell_type": "code",
   "execution_count": null,
   "metadata": {},
   "outputs": [],
   "source": [
    "merge_debevec = cv.createMergeDebevec()\n",
    "hdr = merge_debevec.process(images, times, response)"
   ]
  },
  {
   "cell_type": "markdown",
   "metadata": {},
   "source": [
    "## Tonemap HDR image"
   ]
  },
  {
   "cell_type": "markdown",
   "metadata": {},
   "source": [
    "Since we want to see our results on common LDR display we have to map our HDR image to 8-bit range preserving most details. It is the main goal of tonemapping methods. We use tonemapper with bilateral filtering and set 2.2 as the value for gamma correction."
   ]
  },
  {
   "cell_type": "code",
   "execution_count": null,
   "metadata": {},
   "outputs": [],
   "source": [
    "tonemap = cv.createTonemap(2.2)\n",
    "ldr = tonemap.process(hdr)"
   ]
  },
  {
   "cell_type": "markdown",
   "metadata": {},
   "source": [
    "## Perform exposure fusion"
   ]
  },
  {
   "cell_type": "markdown",
   "metadata": {},
   "source": [
    "There is an alternative way to merge our exposures in case when we don't need HDR image. This process is called exposure fusion and produces LDR image that doesn't require gamma correction. It also doesn't use exposure values of the photographs."
   ]
  },
  {
   "cell_type": "code",
   "execution_count": null,
   "metadata": {},
   "outputs": [],
   "source": [
    "merge_mertens = cv.createMergeMertens()\n",
    "fusion = merge_mertens.process(images)"
   ]
  },
  {
   "cell_type": "markdown",
   "metadata": {},
   "source": [
    "## Write results"
   ]
  },
  {
   "cell_type": "code",
   "execution_count": null,
   "metadata": {},
   "outputs": [],
   "source": [
    "cv.imwrite('fusion.png', fusion * 255)\n",
    "cv.imwrite('ldr.png', ldr * 255)\n",
    "cv.imwrite('hdr.hdr', hdr)"
   ]
  },
  {
   "cell_type": "markdown",
   "metadata": {},
   "source": [
    "Now it's time to look at the results. Note that HDR image can't be stored in one of common image formats, so we save it to Radiance image (.hdr). Also all HDR imaging functions return results in [0, 1] range so we should multiply result by 255.\n",
    "\n",
    "You can try other tonemap algorithms: [cv::TonemapDrago](https://docs.opencv.org/4.1.0/da/d53/classcv_1_1TonemapDrago.html), [cv::TonemapMantiuk](https://docs.opencv.org/4.1.0/de/d76/classcv_1_1TonemapMantiuk.html) and [cv::TonemapReinhard](https://docs.opencv.org/4.1.0/d0/dec/classcv_1_1TonemapReinhard.html) You can also adjust the parameters in the HDR calibration and tonemap methods for your own photos."
   ]
  },
  {
   "cell_type": "markdown",
   "metadata": {},
   "source": [
    "## Results"
   ]
  },
  {
   "cell_type": "markdown",
   "metadata": {},
   "source": [
    "### Tonemapped image"
   ]
  },
  {
   "cell_type": "markdown",
   "metadata": {},
   "source": [
    "![title](ldr.png)"
   ]
  },
  {
   "cell_type": "markdown",
   "metadata": {},
   "source": [
    "### Exposure fusion"
   ]
  },
  {
   "cell_type": "markdown",
   "metadata": {},
   "source": [
    "![title](fusion.png)"
   ]
  },
  {
   "cell_type": "markdown",
   "metadata": {},
   "source": [
    "# ***High Dynamic Range Imaging*** from [vivianhylee/high-dynamic-range-image](https://github.com/vivianhylee/high-dynamic-range-image)"
   ]
  },
  {
   "cell_type": "code",
   "execution_count": null,
   "metadata": {},
   "outputs": [],
   "source": [
    "import random\n",
    "import glob\n",
    "import math\n",
    "import re\n",
    "from matplotlib import pyplot as plt"
   ]
  },
  {
   "cell_type": "markdown",
   "metadata": {},
   "source": [
    "## Linear Weighting function"
   ]
  },
  {
   "cell_type": "code",
   "execution_count": null,
   "metadata": {},
   "outputs": [],
   "source": [
    "def linearWeight(pixel_value):\n",
    "    \"\"\" Linear weighting function based on pixel intensity that reduces the\n",
    "    weight of pixel values that are near saturation.\n",
    "\n",
    "    Parameters\n",
    "    ----------\n",
    "    pixel_value : np.uint8\n",
    "        A pixel intensity value from 0 to 255\n",
    "\n",
    "    Returns\n",
    "    -------\n",
    "    weight : np.float64\n",
    "        The weight corresponding to the input pixel intensity\n",
    "\n",
    "    \"\"\"\n",
    "    z_min, z_max = 0., 255.\n",
    "    if pixel_value <= (z_min + z_max) / 2:\n",
    "        return pixel_value - z_min\n",
    "    return z_max - pixel_value"
   ]
  },
  {
   "cell_type": "markdown",
   "metadata": {},
   "source": [
    "## Randomly sample pixel intensities from the exposure stack."
   ]
  },
  {
   "cell_type": "code",
   "execution_count": null,
   "metadata": {},
   "outputs": [],
   "source": [
    "def sampleIntensities(images):\n",
    "    \"\"\"Randomly sample pixel intensities from the exposure stack.\n",
    "\n",
    "    Parameters\n",
    "    ----------\n",
    "    images : list<numpy.ndarray>\n",
    "        A list containing a stack of single-channel (i.e., grayscale)\n",
    "        layers of an HDR exposure stack\n",
    "\n",
    "    Returns\n",
    "    -------\n",
    "    intensity_values : numpy.array, dtype=np.uint8\n",
    "        An array containing a uniformly sampled intensity value from each\n",
    "        exposure layer (shape = num_intensities x num_images)\n",
    "\n",
    "    \"\"\"\n",
    "    z_min, z_max = 0, 255\n",
    "    num_intensities = z_max - z_min + 1\n",
    "    num_images = len(images)\n",
    "    intensity_values = np.zeros((num_intensities, num_images), dtype=np.uint8)\n",
    "\n",
    "    # Find the middle image to use as the source for pixel intensity locations\n",
    "    mid_img = images[num_images // 2]\n",
    "\n",
    "    for i in range(z_min, z_max + 1):\n",
    "        rows, cols = np.where(mid_img == i)\n",
    "        if len(rows) != 0:\n",
    "            idx = random.randrange(len(rows))\n",
    "            for j in range(num_images):\n",
    "                intensity_values[i, j] = images[j][rows[idx], cols[idx]]\n",
    "    return intensity_values"
   ]
  },
  {
   "cell_type": "markdown",
   "metadata": {},
   "source": [
    "## Find the camera response curve for a single color channel"
   ]
  },
  {
   "cell_type": "code",
   "execution_count": null,
   "metadata": {},
   "outputs": [],
   "source": [
    "def computeResponseCurve(intensity_samples, log_exposures, smoothing_lambda, weighting_function):\n",
    "    \"\"\"Find the camera response curve for a single color channel\n",
    "\n",
    "    Parameters\n",
    "    ----------\n",
    "    intensity_samples : numpy.ndarray\n",
    "        Stack of single channel input values (num_samples x num_images)\n",
    "\n",
    "    log_exposures : numpy.ndarray\n",
    "        Log exposure times (size == num_images)\n",
    "\n",
    "    smoothing_lambda : float\n",
    "        A constant value used to correct for scale differences between\n",
    "        data and smoothing terms in the constraint matrix -- source\n",
    "        paper suggests a value of 100.\n",
    "\n",
    "    weighting_function : callable\n",
    "        Function that computes a weight from a pixel intensity\n",
    "\n",
    "    Returns\n",
    "    -------\n",
    "    numpy.ndarray, dtype=np.float64\n",
    "        Return a vector g(z) where the element at index i is the log exposure\n",
    "        of a pixel with intensity value z = i (e.g., g[0] is the log exposure\n",
    "        of z=0, g[1] is the log exposure of z=1, etc.)\n",
    "    \"\"\"\n",
    "    z_min, z_max = 0, 255\n",
    "    intensity_range = 255  # difference between min and max possible pixel value for uint8\n",
    "    num_samples = intensity_samples.shape[0]\n",
    "    num_images = len(log_exposures)\n",
    "\n",
    "    # NxP + [(Zmax-1) - (Zmin + 1)] + 1 constraints; N + 256 columns\n",
    "    mat_A = np.zeros((num_images * num_samples + intensity_range, num_samples + intensity_range + 1), dtype=np.float64)\n",
    "    mat_b = np.zeros((mat_A.shape[0], 1), dtype=np.float64)\n",
    "\n",
    "    # 1. Add data-fitting constraints:\n",
    "    k = 0\n",
    "    for i in range(num_samples):\n",
    "        for j in range(num_images):\n",
    "            z_ij = intensity_samples[i, j]\n",
    "            w_ij = weighting_function(z_ij)\n",
    "            mat_A[k, z_ij] = w_ij\n",
    "            mat_A[k, (intensity_range + 1) + i] = -w_ij\n",
    "            mat_b[k, 0] = w_ij * log_exposures[j]\n",
    "            k += 1\n",
    "\n",
    "    # 2. Add smoothing constraints:\n",
    "    for z_k in range(z_min + 1, z_max):\n",
    "        w_k = weighting_function(z_k)\n",
    "        mat_A[k, z_k - 1] = w_k * smoothing_lambda\n",
    "        mat_A[k, z_k    ] = -2 * w_k * smoothing_lambda\n",
    "        mat_A[k, z_k + 1] = w_k * smoothing_lambda\n",
    "        k += 1\n",
    "\n",
    "    # 3. Add color curve centering constraint:\n",
    "    mat_A[k, (z_max - z_min) // 2] = 1\n",
    "\n",
    "    inv_A = np.linalg.pinv(mat_A)\n",
    "    x = np.dot(inv_A, mat_b)\n",
    "\n",
    "    g = x[0: intensity_range + 1]\n",
    "    return g[:, 0]"
   ]
  },
  {
   "cell_type": "markdown",
   "metadata": {},
   "source": [
    "## Calculate a radiance map for each pixel from the response curve."
   ]
  },
  {
   "cell_type": "code",
   "execution_count": null,
   "metadata": {},
   "outputs": [],
   "source": [
    "def computeRadianceMap(images, log_exposure_times, response_curve, weighting_function):\n",
    "    \"\"\"Calculate a radiance map for each pixel from the response curve.\n",
    "\n",
    "    Parameters\n",
    "    ----------\n",
    "    images : list\n",
    "        Collection containing a single color layer (i.e., grayscale)\n",
    "        from each image in the exposure stack. (size == num_images)\n",
    "\n",
    "    log_exposure_times : numpy.ndarray\n",
    "        Array containing the log exposure times for each image in the\n",
    "        exposure stack (size == num_images)\n",
    "\n",
    "    response_curve : numpy.ndarray\n",
    "        Least-squares fitted log exposure of each pixel value z\n",
    "\n",
    "    weighting_function : callable\n",
    "        Function that computes the weights\n",
    "\n",
    "    Returns\n",
    "    -------\n",
    "    numpy.ndarray(dtype=np.float64)\n",
    "        The image radiance map (in log space)\n",
    "    \"\"\"\n",
    "    img_shape = images[0].shape\n",
    "    img_rad_map = np.zeros(img_shape, dtype=np.float64)\n",
    "\n",
    "    num_images = len(images)\n",
    "    for i in range(img_shape[0]):\n",
    "        for j in range(img_shape[1]):\n",
    "            g = np.array([response_curve[images[k][i, j]] for k in range(num_images)])\n",
    "            w = np.array([weighting_function(images[k][i, j]) for k in range(num_images)])\n",
    "            SumW = np.sum(w)\n",
    "            if SumW > 0:\n",
    "                img_rad_map[i, j] = np.sum(w * (g - log_exposure_times) / SumW)\n",
    "            else:\n",
    "                img_rad_map[i, j] = g[num_images // 2] - log_exposure_times[num_images // 2]\n",
    "    return img_rad_map"
   ]
  },
  {
   "cell_type": "markdown",
   "metadata": {},
   "source": [
    "## Global tone mapping using gamma correction"
   ]
  },
  {
   "cell_type": "code",
   "execution_count": null,
   "metadata": {},
   "outputs": [],
   "source": [
    "def globalToneMapping(image, gamma):\n",
    "    \"\"\"Global tone mapping using gamma correction\n",
    "    ----------\n",
    "    images : <numpy.ndarray>\n",
    "        Image needed to be corrected\n",
    "    gamma : floating number\n",
    "        The number for gamma correction. Higher value for brighter result; lower for darker\n",
    "    Returns\n",
    "    -------\n",
    "    numpy.ndarray\n",
    "        The resulting image after gamma correction\n",
    "    \"\"\"\n",
    "    image_corrected = cv.pow(image/255., 1.0/gamma)\n",
    "    return image_corrected"
   ]
  },
  {
   "cell_type": "markdown",
   "metadata": {},
   "source": [
    "## Tune image intensity based on template"
   ]
  },
  {
   "cell_type": "code",
   "execution_count": null,
   "metadata": {},
   "outputs": [],
   "source": [
    "def intensityAdjustment(image, template):\n",
    "    \"\"\"Tune image intensity based on template\n",
    "        ----------\n",
    "        images : <numpy.ndarray>\n",
    "            image needed to be adjusted\n",
    "        template : <numpy.ndarray>\n",
    "            Typically we use the middle image from image stack. We want to match the image\n",
    "            intensity for each channel to template's\n",
    "        Returns\n",
    "        -------\n",
    "        numpy.ndarray\n",
    "            The resulting image after intensity adjustment\n",
    "        \"\"\"\n",
    "    m, n, channel = image.shape\n",
    "    output = np.zeros((m, n, channel))\n",
    "    for ch in range(channel):\n",
    "        image_avg, template_avg = np.average(image[:, :, ch]), np.average(template[:, :, ch])\n",
    "        output[..., ch] = image[..., ch] * (template_avg / image_avg)\n",
    "\n",
    "    return output"
   ]
  },
  {
   "cell_type": "markdown",
   "metadata": {},
   "source": [
    "## Put everything together: Computational pipeline to produce the HDR images"
   ]
  },
  {
   "cell_type": "code",
   "execution_count": null,
   "metadata": {},
   "outputs": [],
   "source": [
    "def computeHDR(images, log_exposure_times, smoothing_lambda=100., gamma=0.6):\n",
    "    \"\"\"Computational pipeline to produce the HDR images\n",
    "    ----------\n",
    "    images : list<numpy.ndarray>\n",
    "        A list containing an exposure stack of images\n",
    "    log_exposure_times : numpy.ndarray\n",
    "        The log exposure times for each image in the exposure stack\n",
    "    smoothing_lambda : np.int (Optional)\n",
    "        A constant value to correct for scale differences between\n",
    "        data and smoothing terms in the constraint matrix -- source\n",
    "        paper suggests a value of 100.\n",
    "    Returns\n",
    "    -------\n",
    "    numpy.ndarray\n",
    "        The resulting HDR with intensities scaled to fit uint8 range\n",
    "    \"\"\"\n",
    "\n",
    "    num_channels = images[0].shape[2]\n",
    "    hdr_image = np.zeros(images[0].shape, dtype=np.float64)\n",
    "\n",
    "    for channel in range(num_channels):\n",
    "        # Collect the current layer of each input image from the exposure stack\n",
    "        layer_stack = [img[:, :, channel] for img in images]\n",
    "\n",
    "        # Sample image intensities\n",
    "        intensity_samples = sampleIntensities(layer_stack)\n",
    "\n",
    "        # Compute Response Curve\n",
    "        response_curve = computeResponseCurve(intensity_samples, log_exposure_times, smoothing_lambda, linearWeight)\n",
    "\n",
    "        # Build radiance map\n",
    "        img_rad_map = computeRadianceMap(layer_stack, log_exposure_times, response_curve, linearWeight)\n",
    "\n",
    "        # Normalize hdr layer to (0, 255)\n",
    "        hdr_image[..., channel] = cv.normalize(img_rad_map, None, alpha=0, beta=255, norm_type=cv.NORM_MINMAX)\n",
    "\n",
    "    # Global tone mapping\n",
    "    image_mapped = globalToneMapping(hdr_image, gamma)\n",
    "\n",
    "    # Adjust image intensity based on the middle image from image stack\n",
    "    template = images[len(images)//2]\n",
    "    image_tuned = intensityAdjustment(image_mapped, template)\n",
    "\n",
    "    # Output image\n",
    "    image_tuned = cv.normalize(image_tuned, None, alpha=0, beta=255, norm_type=cv.NORM_MINMAX)\n",
    "    return image_tuned.astype(np.uint8)"
   ]
  },
  {
   "cell_type": "code",
   "execution_count": null,
   "metadata": {},
   "outputs": [],
   "source": [
    "def computeHDR(images, log_exposure_times, smoothing_lambda=100., gamma=0.6):\n",
    "    \"\"\"Computational pipeline to produce the HDR images\n",
    "    ----------\n",
    "    images : list<numpy.ndarray>\n",
    "        A list containing an exposure stack of images\n",
    "    log_exposure_times : numpy.ndarray\n",
    "        The log exposure times for each image in the exposure stack\n",
    "    smoothing_lambda : np.int (Optional)\n",
    "        A constant value to correct for scale differences between\n",
    "        data and smoothing terms in the constraint matrix -- source\n",
    "        paper suggests a value of 100.\n",
    "    Returns\n",
    "    -------\n",
    "    numpy.ndarray\n",
    "        The resulting HDR with intensities scaled to fit uint8 range\n",
    "    \"\"\"\n",
    "\n",
    "    num_channels = images[0].shape[2]\n",
    "    hdr_image = np.zeros(images[0].shape, dtype=np.float64)\n",
    "    response_curve = []\n",
    "\n",
    "    for channel in range(num_channels):\n",
    "        # Collect the current layer of each input image from the exposure stack\n",
    "        layer_stack = [img[:, :, channel] for img in images]\n",
    "\n",
    "        # Sample image intensities\n",
    "        intensity_samples = sampleIntensities(layer_stack)\n",
    "\n",
    "        # Compute Response Curve\n",
    "        response_curve.append(computeResponseCurve(intensity_samples, log_exposure_times, smoothing_lambda, linearWeight))\n",
    "\n",
    "        # Build radiance map\n",
    "        img_rad_map = computeRadianceMap(layer_stack, log_exposure_times, response_curve[channel], linearWeight)\n",
    "\n",
    "        # Normalize hdr layer to (0, 255)\n",
    "        hdr_image[..., channel] = cv.normalize(img_rad_map, None, alpha=0, beta=255, norm_type=cv.NORM_MINMAX)\n",
    "        # Ensure that no negative values occur in hdr image (sometimes happen through rounding errors in normalize routine)\n",
    "        # otherwise cv.pow routine in globalToneMapping generates NaN (because of complex values) with gamma's <1\n",
    "        hdr_image[hdr_image < 0] = 0\n",
    "        \n",
    "    # Global tone mapping\n",
    "    image_mapped = globalToneMapping(hdr_image, gamma)\n",
    "\n",
    "    # Adjust image intensity based on the middle image from image stack\n",
    "    template = images[len(images)//2]\n",
    "    image_tuned = intensityAdjustment(image_mapped, template)\n",
    "\n",
    "    # Output image\n",
    "    output = cv.normalize(image_tuned, None, alpha=0, beta=255, norm_type=cv.NORM_MINMAX)\n",
    "    return output.astype(np.uint8), response_curve"
   ]
  },
  {
   "cell_type": "markdown",
   "metadata": {},
   "source": [
    "## Example 1"
   ]
  },
  {
   "cell_type": "markdown",
   "metadata": {},
   "source": [
    "Read list of image file names and exposures into list"
   ]
  },
  {
   "cell_type": "code",
   "execution_count": null,
   "metadata": {},
   "outputs": [],
   "source": [
    "times = [1/160, 1/125, 1/80, 1/60, 1/40, 1/15]\n",
    "logtimes = list(map(lambda x: math.log(x),times))\n",
    "path = os.getcwd() + '/high-dynamic-range-image/example/'\n",
    "images = []\n",
    "for name in glob.glob(os.path.join(path, 'sample-*')):\n",
    "    images.append(cv.imread(name))"
   ]
  },
  {
   "cell_type": "markdown",
   "metadata": {},
   "source": [
    "![title](high-dynamic-range-image/example/sample-05.png)"
   ]
  },
  {
   "cell_type": "markdown",
   "metadata": {},
   "source": [
    "### Run HDR generation. Main routine computeHDR returns image and the response functions for all three color channels"
   ]
  },
  {
   "cell_type": "code",
   "execution_count": null,
   "metadata": {
    "scrolled": true
   },
   "outputs": [],
   "source": [
    "mapped, response_curve = computeHDR(images, logtimes, smoothing_lambda=100., gamma=0.6)\n",
    "fname = os.path.join(path, 'output1.png')\n",
    "cv.imwrite(fname, mapped);"
   ]
  },
  {
   "cell_type": "code",
   "execution_count": null,
   "metadata": {},
   "outputs": [],
   "source": [
    "### Show resulting tone mapped image"
   ]
  },
  {
   "cell_type": "code",
   "execution_count": null,
   "metadata": {},
   "outputs": [],
   "source": [
    "plt.imshow(mapped[:,:,[2,1,0]])\n",
    "plt.show()"
   ]
  },
  {
   "cell_type": "markdown",
   "metadata": {},
   "source": [
    "### Plot Response curves"
   ]
  },
  {
   "cell_type": "code",
   "execution_count": null,
   "metadata": {},
   "outputs": [],
   "source": [
    "plt.plot(response_curve[0])\n",
    "plt.plot(response_curve[1])\n",
    "plt.plot(response_curve[2])\n",
    "#plt.ylabel('some numbers')\n",
    "plt.show()"
   ]
  },
  {
   "cell_type": "markdown",
   "metadata": {},
   "source": [
    "## Example 2"
   ]
  },
  {
   "cell_type": "code",
   "execution_count": null,
   "metadata": {},
   "outputs": [],
   "source": [
    "images = []\n",
    "times = [1/400, 1/250, 1/100, 1/40, 1/25, 1/8, 1/3]\n",
    "logtimes = list(map(lambda x: math.log(x),times))\n",
    "path = os.getcwd() + '/high-dynamic-range-image/example/'\n",
    "for name in glob.glob(os.path.join(path, 'sample2-*')):\n",
    "    images.append(cv.imread(name))\n",
    "mapped, response_curve = computeHDR(images, logtimes, smoothing_lambda=100., gamma=0.6)\n",
    "fname = os.path.join(path, 'output2.png')\n",
    "cv.imwrite(fname, mapped);"
   ]
  },
  {
   "cell_type": "code",
   "execution_count": null,
   "metadata": {},
   "outputs": [],
   "source": [
    "plt.imshow(mapped[:,:,[2,1,0]])\n",
    "plt.show()"
   ]
  },
  {
   "cell_type": "code",
   "execution_count": null,
   "metadata": {},
   "outputs": [],
   "source": [
    "plt.plot(response_curve[0])\n",
    "plt.plot(response_curve[1])\n",
    "plt.plot(response_curve[2])\n",
    "#plt.ylabel('some numbers')\n",
    "plt.show()"
   ]
  },
  {
   "cell_type": "markdown",
   "metadata": {},
   "source": [
    "## Analemma Example"
   ]
  },
  {
   "cell_type": "code",
   "execution_count": null,
   "metadata": {},
   "outputs": [],
   "source": [
    "images = []\n",
    "#times = [119e-6, 238e-6, 477e-6, 954e-6, 1908e-6]\n",
    "times = []\n",
    "path = os.getcwd() + '/analemmaexample/'\n",
    "filenames = glob.glob(os.path.join(path, 'analemma20191211115824*'));\n",
    "for name in filenames:\n",
    "    images.append(cv.imread(name))\n",
    "    times.append(float(re.split('_|\\.', name)[-2]+'e-6'))\n",
    "logtimes = list(map(lambda x: math.log(x),times))\n",
    "mapped, response_curve = computeHDR(images, logtimes, smoothing_lambda=100., gamma=0.6)\n",
    "fname = os.path.join(path, 'analemma.png')\n",
    "cv.imwrite(fname, mapped);"
   ]
  },
  {
   "cell_type": "code",
   "execution_count": null,
   "metadata": {},
   "outputs": [],
   "source": [
    "plt.imshow(mapped[:,:,[2,1,0]])\n",
    "plt.show()"
   ]
  },
  {
   "cell_type": "code",
   "execution_count": null,
   "metadata": {},
   "outputs": [],
   "source": [
    "plt.plot(response_curve[0])\n",
    "plt.plot(response_curve[1])\n",
    "plt.plot(response_curve[2])\n",
    "#plt.ylabel('some numbers')\n",
    "plt.show()"
   ]
  },
  {
   "cell_type": "markdown",
   "metadata": {},
   "source": [
    "# ***High Dynamic Range Imaging*** from [SSARCandy/HDR-imaging](https://github.com/SSARCandy/HDR-imaging)"
   ]
  }
 ],
 "metadata": {
  "kernelspec": {
   "display_name": "Python 3",
   "language": "python",
   "name": "python3"
  },
  "language_info": {
   "codemirror_mode": {
    "name": "ipython",
    "version": 3
   },
   "file_extension": ".py",
   "mimetype": "text/x-python",
   "name": "python",
   "nbconvert_exporter": "python",
   "pygments_lexer": "ipython3",
   "version": "3.6.8"
  }
 },
 "nbformat": 4,
 "nbformat_minor": 2
}
