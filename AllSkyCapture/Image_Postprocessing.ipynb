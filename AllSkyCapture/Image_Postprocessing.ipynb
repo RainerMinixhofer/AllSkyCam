{
 "cells": [
  {
   "cell_type": "markdown",
   "metadata": {},
   "source": [
    "# Example workflow for postprocessing images"
   ]
  },
  {
   "cell_type": "markdown",
   "metadata": {},
   "source": [
    "## Import packages"
   ]
  },
  {
   "cell_type": "code",
   "execution_count": 3,
   "metadata": {},
   "outputs": [],
   "source": [
    "import numpy as np\n",
    "from math import log2,ceil\n",
    "import cv2 as cv"
   ]
  },
  {
   "cell_type": "markdown",
   "metadata": {},
   "source": [
    "## Compare high-speed (10bitADC) with low-speed (14bitADC) image with respect to the number of pixel levels."
   ]
  },
  {
   "cell_type": "code",
   "execution_count": 25,
   "metadata": {},
   "outputs": [
    {
     "name": "stdout",
     "output_type": "stream",
     "text": [
      "10bitADC:\n",
      "# of Channels: 3 / Datatype: uint16\n",
      "# of distinct levels: 32173 (2^15=32768)\n",
      "14bitADC:\n",
      "# of Channels: 3 / Datatype: uint16\n",
      "# of distinct levels: 65449 (2^16=65536)\n"
     ]
    }
   ],
   "source": [
    "print('10bitADC:')\n",
    "img = cv.imread('./tests/image20190905012252.png', cv.IMREAD_ANYCOLOR | cv.IMREAD_ANYDEPTH )\n",
    "print('# of Channels: %d / Datatype: %s' % (img.shape[2], str(img.dtype)))\n",
    "unique, counts = np.unique(img.flatten(), return_counts=True)\n",
    "counts = len(dict(zip(unique, counts)))\n",
    "bits = ceil(log2(counts))\n",
    "print('# of distinct levels: %d (2^%d=%d)' % ( counts, bits, 2**bits))\n",
    "print('14bitADC:')\n",
    "img = cv.imread('./tests/image20190915222325.png', cv.IMREAD_ANYCOLOR | cv.IMREAD_ANYDEPTH )\n",
    "print('# of Channels: %d / Datatype: %s' % (img.shape[2], str(img.dtype)))\n",
    "unique, counts = np.unique(img.flatten(), return_counts=True)\n",
    "counts = len(dict(zip(unique, counts)))\n",
    "bits = ceil(log2(counts))\n",
    "print('# of distinct levels: %d (2^%d=%d)' % ( counts, bits, 2**bits))"
   ]
  },
  {
   "cell_type": "markdown",
   "metadata": {},
   "source": [
    "# Insert new lines here"
   ]
  },
  {
   "cell_type": "code",
   "execution_count": null,
   "metadata": {},
   "outputs": [],
   "source": [
    "import skimage\n",
    "from skimage.morphology import watershed, disk\n",
    "from skimage.filters import threshold_otsu, try_all_threshold, rank\n",
    "from skimage.color import rgb2gray\n",
    "from skimage.io import imread\n",
    "from skimage.exposure import rescale_intensity\n",
    "\n",
    "from scipy import ndimage as ndi\n",
    "\n",
    "import matplotlib\n",
    "import matplotlib.pyplot as plt\n",
    "import sep"
   ]
  },
  {
   "cell_type": "markdown",
   "metadata": {},
   "source": [
    "Read in test files for testing the algorithm"
   ]
  },
  {
   "cell_type": "code",
   "execution_count": null,
   "metadata": {},
   "outputs": [],
   "source": [
    "#img = rgb2gray(imread('./tests/image20190403215022.png'))\n",
    "#img = rgb2gray(imread('./tests/image20190905012252.png'))\n",
    "#example image with 14bitADC (low speed mode) setting\n",
    "img = rgb2gray(imread('./images/20190915/image20190915221424.png'))\n",
    "matplotlib.rcParams['font.size'] = 9\n",
    "img = np.flip(img, 0)"
   ]
  },
  {
   "cell_type": "code",
   "execution_count": null,
   "metadata": {},
   "outputs": [],
   "source": [
    "# show the image\n",
    "m, s = np.mean(img), np.std(img)\n",
    "fig, ax = plt.subplots(figsize=(20, 20))\n",
    "im = ax.imshow(img, interpolation='nearest', cmap='gray', vmin=m-s, vmax=m+s, origin='lower')\n",
    "fig.colorbar(im, ax=ax);"
   ]
  },
  {
   "cell_type": "markdown",
   "metadata": {},
   "source": [
    "# measure a spatially varying background on the image"
   ]
  },
  {
   "cell_type": "code",
   "execution_count": null,
   "metadata": {},
   "outputs": [],
   "source": [
    "bkg = sep.Background(img)"
   ]
  },
  {
   "cell_type": "code",
   "execution_count": null,
   "metadata": {},
   "outputs": [],
   "source": [
    "# get a \"global\" mean and noise of the image background:\n",
    "print(bkg.globalback)\n",
    "print(bkg.globalrms)\n",
    "# evaluate background as 2-d array, same size as original image\n",
    "bkg_image = bkg.back()\n",
    "# bkg_image = np.array(bkg) # equivalent to above"
   ]
  },
  {
   "cell_type": "code",
   "execution_count": null,
   "metadata": {},
   "outputs": [],
   "source": [
    "# show the background\n",
    "plt.figure(figsize = (15,15))\n",
    "plt.imshow(bkg_image, interpolation='nearest', cmap='gray', origin='lower')\n",
    "plt.colorbar();"
   ]
  },
  {
   "cell_type": "code",
   "execution_count": null,
   "metadata": {},
   "outputs": [],
   "source": [
    "# evaluate the background noise as 2-d array, same size as original image\n",
    "bkg_rms = bkg.rms()"
   ]
  },
  {
   "cell_type": "code",
   "execution_count": null,
   "metadata": {},
   "outputs": [],
   "source": [
    "# show the background noise\n",
    "plt.figure(figsize = (15,15))\n",
    "plt.imshow(bkg_rms, interpolation='nearest', cmap='gray', origin='lower')\n",
    "plt.colorbar();"
   ]
  },
  {
   "cell_type": "code",
   "execution_count": null,
   "metadata": {},
   "outputs": [],
   "source": [
    "# subtract the background\n",
    "img_sub = img - bkg\n",
    "# show the image with background subtracted\n",
    "plt.figure(figsize = (15,15))\n",
    "plt.imshow(img_sub, interpolation='nearest', cmap='gray', origin='lower')\n",
    "plt.colorbar();"
   ]
  },
  {
   "cell_type": "markdown",
   "metadata": {},
   "source": [
    "First do contrast enhancement by stretching the histogram"
   ]
  },
  {
   "cell_type": "code",
   "execution_count": null,
   "metadata": {},
   "outputs": [],
   "source": [
    "p2, p98 = np.percentile(img, (2, 98))\n",
    "imgo = rescale_intensity(img, in_range=(p2, p98))"
   ]
  },
  {
   "cell_type": "markdown",
   "metadata": {},
   "source": [
    "Do segmentation on grayscale image and denoise it"
   ]
  },
  {
   "cell_type": "code",
   "execution_count": null,
   "metadata": {},
   "outputs": [],
   "source": [
    "gray = skimage.img_as_ubyte(skimage.color.rgb2gray(imgo))\n",
    "denoised = rank.median(gray,disk(2))"
   ]
  },
  {
   "cell_type": "code",
   "execution_count": null,
   "metadata": {},
   "outputs": [],
   "source": [
    "fig, ax = plt.subplots(figsize=(20, 20))\n",
    "ax.imshow(gray,cmap='gray')\n",
    "ax.set_axis_off()\n",
    "plt.tight_layout()"
   ]
  },
  {
   "cell_type": "markdown",
   "metadata": {},
   "source": [
    "Plot histogram of image"
   ]
  },
  {
   "cell_type": "code",
   "execution_count": null,
   "metadata": {},
   "outputs": [],
   "source": [
    "plt.hist(gray.ravel(),bins=256,range=(1,254));"
   ]
  },
  {
   "cell_type": "markdown",
   "metadata": {},
   "source": [
    "Mark sections for watershed algorithm:\n",
    "find continuous region (low gradient - where less than 10 for this image) --> markers\n",
    "disk(10) is used here to get a more smooth image"
   ]
  },
  {
   "cell_type": "code",
   "execution_count": null,
   "metadata": {},
   "outputs": [],
   "source": [
    "markers = rank.gradient(denoised, disk(10)) < 15\n",
    "markers = ndi.label(markers)[0]\n",
    "fig, ax = plt.subplots(figsize=(20, 20))\n",
    "plt.imshow(markers, cmap=plt.cm.nipy_spectral, interpolation='nearest')"
   ]
  },
  {
   "cell_type": "markdown",
   "metadata": {},
   "source": [
    "Show elevation map of image"
   ]
  },
  {
   "cell_type": "code",
   "execution_count": null,
   "metadata": {},
   "outputs": [],
   "source": [
    "from skimage.filters import sobel\n",
    "elevation_map = sobel(gray)\n",
    "\n",
    "fig, ax = plt.subplots(figsize=(15, 15))\n",
    "ax.imshow(elevation_map, cmap=plt.cm.gray, interpolation='nearest')\n",
    "ax.set_title('elevation map')\n",
    "ax.axis('off');"
   ]
  },
  {
   "cell_type": "markdown",
   "metadata": {},
   "source": [
    "Do watershed segmentation"
   ]
  },
  {
   "cell_type": "code",
   "execution_count": null,
   "metadata": {},
   "outputs": [],
   "source": [
    "labels = watershed(elevation_map, markers)"
   ]
  },
  {
   "cell_type": "code",
   "execution_count": null,
   "metadata": {},
   "outputs": [],
   "source": [
    "plt.subplots(figsize=(15, 15))\n",
    "plt.imshow(labels, cmap=plt.cm.nipy_spectral, interpolation='nearest', alpha=.7)"
   ]
  },
  {
   "cell_type": "code",
   "execution_count": null,
   "metadata": {},
   "outputs": [],
   "source": [
    "fig, ax = plt.subplots(2, 2, figsize=(16, 10), sharex=True, sharey=True,\n",
    "                       subplot_kw={'adjustable': 'box-forced'})\n",
    "ax0, ax1, ax2, ax3 = ax.ravel()\n",
    "plt.tight_layout()\n",
    "\n",
    "ax0.imshow(img, cmap=plt.cm.gray)\n",
    "ax0.set_title('Original')\n",
    "ax0.axis('off')\n",
    "\n",
    "ax2.imshow(try_all, cmap=plt.cm.gray)\n",
    "ax2.set_title('Original >= Local Otsu' % threshold_global_otsu)\n",
    "ax2.axis('off')\n",
    "\n",
    "ax3.imshow(global_otsu, cmap=plt.cm.gray)\n",
    "ax3.set_title('Global Otsu (threshold = %d)' % threshold_global_otsu)\n",
    "ax3.axis('off')\n",
    "\n",
    "plt.tight_layout()\n",
    "plt.show()"
   ]
  },
  {
   "cell_type": "code",
   "execution_count": null,
   "metadata": {},
   "outputs": [],
   "source": []
  }
 ],
 "metadata": {
  "kernelspec": {
   "display_name": "Python 3",
   "language": "python",
   "name": "python3"
  },
  "language_info": {
   "codemirror_mode": {
    "name": "ipython",
    "version": 3
   },
   "file_extension": ".py",
   "mimetype": "text/x-python",
   "name": "python",
   "nbconvert_exporter": "python",
   "pygments_lexer": "ipython3",
   "version": "3.6.8"
  }
 },
 "nbformat": 4,
 "nbformat_minor": 2
}
